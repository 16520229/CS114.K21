{
  "nbformat": 4,
  "nbformat_minor": 0,
  "metadata": {
    "colab": {
      "name": "Animal_10.ipynb",
      "provenance": [],
      "collapsed_sections": [],
      "include_colab_link": true
    },
    "kernelspec": {
      "name": "python3",
      "display_name": "Python 3"
    },
    "accelerator": "GPU"
  },
  "cells": [
    {
      "cell_type": "markdown",
      "metadata": {
        "id": "view-in-github",
        "colab_type": "text"
      },
      "source": [
        "<a href=\"https://colab.research.google.com/github/16520229/CS114.K21/blob/master/Animal_10.ipynb\" target=\"_parent\"><img src=\"https://colab.research.google.com/assets/colab-badge.svg\" alt=\"Open In Colab\"/></a>"
      ]
    },
    {
      "cell_type": "code",
      "metadata": {
        "colab_type": "code",
        "id": "JHAg8-Hj8Arz",
        "colab": {
          "base_uri": "https://localhost:8080/",
          "height": 122
        },
        "outputId": "2463c6cd-f82e-4db2-f2e0-29140fa3a185"
      },
      "source": [
        "# Thêm drive vào colab\n",
        "from google.colab import drive\n",
        "drive.mount('/content/drive')"
      ],
      "execution_count": null,
      "outputs": [
        {
          "output_type": "stream",
          "text": [
            "Go to this URL in a browser: https://accounts.google.com/o/oauth2/auth?client_id=947318989803-6bn6qk8qdgf4n4g3pfee6491hc0brc4i.apps.googleusercontent.com&redirect_uri=urn%3aietf%3awg%3aoauth%3a2.0%3aoob&response_type=code&scope=email%20https%3a%2f%2fwww.googleapis.com%2fauth%2fdocs.test%20https%3a%2f%2fwww.googleapis.com%2fauth%2fdrive%20https%3a%2f%2fwww.googleapis.com%2fauth%2fdrive.photos.readonly%20https%3a%2f%2fwww.googleapis.com%2fauth%2fpeopleapi.readonly\n",
            "\n",
            "Enter your authorization code:\n",
            "··········\n",
            "Mounted at /content/drive\n"
          ],
          "name": "stdout"
        }
      ]
    },
    {
      "cell_type": "code",
      "metadata": {
        "id": "bmxU19P-vdsR",
        "colab_type": "code",
        "colab": {}
      },
      "source": [
        "# Tạo thư mục animal-10 để chứa dữ liệu\n",
        "%mkdir /content/drive/My\\ Drive/Data/animal-10"
      ],
      "execution_count": null,
      "outputs": []
    },
    {
      "cell_type": "markdown",
      "metadata": {
        "colab_type": "text",
        "id": "GG3o5LwT_BhL"
      },
      "source": [
        "# ***1. DownLoad Data:***"
      ]
    },
    {
      "cell_type": "code",
      "metadata": {
        "id": "KsKlbLg3k5JX",
        "colab_type": "code",
        "colab": {
          "base_uri": "https://localhost:8080/",
          "height": 34
        },
        "outputId": "9f82f096-34a0-46e6-c428-f348fec54365"
      },
      "source": [
        "%cd /content/drive/My\\ Drive/Data/animal-10"
      ],
      "execution_count": null,
      "outputs": [
        {
          "output_type": "stream",
          "text": [
            "/content/drive/My Drive/Data/animal-10\n"
          ],
          "name": "stdout"
        }
      ]
    },
    {
      "cell_type": "code",
      "metadata": {
        "colab_type": "code",
        "id": "iGwOw31D8P-6",
        "colab": {
          "resources": {
            "http://localhost:8080/nbextensions/google.colab/files.js": {
              "data": "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",
              "ok": true,
              "headers": [
                [
                  "content-type",
                  "application/javascript"
                ]
              ],
              "status": 200,
              "status_text": ""
            }
          },
          "base_uri": "https://localhost:8080/",
          "height": 72
        },
        "outputId": "3309a46e-bb3b-4fae-8b4b-ace7dc0e9bc9"
      },
      "source": [
        "# Thêm file kaggle.json chứa thông tin tài khoản của trang kaggle để có thể gọi Api cho kaggle\n",
        "from google.colab import files\n",
        "uploaded = files.upload()"
      ],
      "execution_count": null,
      "outputs": [
        {
          "output_type": "display_data",
          "data": {
            "text/html": [
              "\n",
              "     <input type=\"file\" id=\"files-2503cbf5-b594-4deb-82a4-9b667e4a4601\" name=\"files[]\" multiple disabled\n",
              "        style=\"border:none\" />\n",
              "     <output id=\"result-2503cbf5-b594-4deb-82a4-9b667e4a4601\">\n",
              "      Upload widget is only available when the cell has been executed in the\n",
              "      current browser session. Please rerun this cell to enable.\n",
              "      </output>\n",
              "      <script src=\"/nbextensions/google.colab/files.js\"></script> "
            ],
            "text/plain": [
              "<IPython.core.display.HTML object>"
            ]
          },
          "metadata": {
            "tags": []
          }
        },
        {
          "output_type": "stream",
          "text": [
            "Saving kaggle.json to kaggle.json\n"
          ],
          "name": "stdout"
        }
      ]
    },
    {
      "cell_type": "code",
      "metadata": {
        "id": "gxrGtD4Jj14I",
        "colab_type": "code",
        "colab": {
          "base_uri": "https://localhost:8080/",
          "height": 34
        },
        "outputId": "3d2f100e-3912-43e9-d201-07e6bd6f014d"
      },
      "source": [
        "%cd ~"
      ],
      "execution_count": null,
      "outputs": [
        {
          "output_type": "stream",
          "text": [
            "/root\n"
          ],
          "name": "stdout"
        }
      ]
    },
    {
      "cell_type": "code",
      "metadata": {
        "id": "kj9_0Yl8kn17",
        "colab_type": "code",
        "colab": {}
      },
      "source": [
        "%mkdir .kaggle/"
      ],
      "execution_count": null,
      "outputs": []
    },
    {
      "cell_type": "code",
      "metadata": {
        "id": "OybvkwU-kwb2",
        "colab_type": "code",
        "colab": {
          "base_uri": "https://localhost:8080/",
          "height": 68
        },
        "outputId": "34f6b4e7-2722-4d57-fe90-01640516fe96"
      },
      "source": [
        "%ls -a"
      ],
      "execution_count": null,
      "outputs": [
        {
          "output_type": "stream",
          "text": [
            "\u001b[0m\u001b[01;34m.\u001b[0m/             .bashrc   \u001b[01;34m.gsutil\u001b[0m/   \u001b[01;34m.kaggle\u001b[0m/  \u001b[01;34m.node-gyp\u001b[0m/\n",
            "\u001b[01;34m..\u001b[0m/            \u001b[01;34m.cache\u001b[0m/   \u001b[01;34m.ipython\u001b[0m/  \u001b[01;34m.keras\u001b[0m/   \u001b[01;34m.npm\u001b[0m/\n",
            ".bash_history  \u001b[01;34m.config\u001b[0m/  \u001b[01;34m.jupyter\u001b[0m/  \u001b[01;34m.local\u001b[0m/   .profile\n"
          ],
          "name": "stdout"
        }
      ]
    },
    {
      "cell_type": "markdown",
      "metadata": {
        "id": "4v2QXaIlQu85",
        "colab_type": "text"
      },
      "source": [
        ""
      ]
    },
    {
      "cell_type": "code",
      "metadata": {
        "id": "3WAbIPp2J7ib",
        "colab_type": "code",
        "colab": {}
      },
      "source": [
        "!cp /content/drive/My\\ Drive/Data/animal-10/kaggle.json ~/.kaggle/"
      ],
      "execution_count": null,
      "outputs": []
    },
    {
      "cell_type": "code",
      "metadata": {
        "id": "hAuYeIV5KeZn",
        "colab_type": "code",
        "colab": {
          "base_uri": "https://localhost:8080/",
          "height": 34
        },
        "outputId": "23fab30d-8fb3-44bf-aab0-c893aa19afba"
      },
      "source": [
        "%cd ~/.kaggle/"
      ],
      "execution_count": null,
      "outputs": [
        {
          "output_type": "stream",
          "text": [
            "/root/.kaggle\n"
          ],
          "name": "stdout"
        }
      ]
    },
    {
      "cell_type": "code",
      "metadata": {
        "id": "tNiCM0ntKiWM",
        "colab_type": "code",
        "colab": {
          "base_uri": "https://localhost:8080/",
          "height": 34
        },
        "outputId": "8a220f86-a89c-446c-8344-0392e68701df"
      },
      "source": [
        "%ls -a"
      ],
      "execution_count": null,
      "outputs": [
        {
          "output_type": "stream",
          "text": [
            "\u001b[0m\u001b[01;34m.\u001b[0m/  \u001b[01;34m..\u001b[0m/  kaggle.json\n"
          ],
          "name": "stdout"
        }
      ]
    },
    {
      "cell_type": "code",
      "metadata": {
        "id": "z5QTGOFWL-xG",
        "colab_type": "code",
        "colab": {
          "base_uri": "https://localhost:8080/",
          "height": 34
        },
        "outputId": "5a8ede21-cd36-4e92-d11c-d92fbb03bdbf"
      },
      "source": [
        "%cd /content/drive/My\\ Drive/Data/animal-10/"
      ],
      "execution_count": null,
      "outputs": [
        {
          "output_type": "stream",
          "text": [
            "/content/drive/My Drive/Data/animal-10\n"
          ],
          "name": "stdout"
        }
      ]
    },
    {
      "cell_type": "code",
      "metadata": {
        "colab_type": "code",
        "id": "kbSeYupq9i4b",
        "cellView": "both",
        "colab": {
          "base_uri": "https://localhost:8080/",
          "height": 68
        },
        "outputId": "0d940461-2249-4e84-d7e9-1311db670fa1"
      },
      "source": [
        "# Tải dữ liệu từ kaggle về\n",
        "!kaggle datasets download -d alessiocorrado99/animals10"
      ],
      "execution_count": null,
      "outputs": [
        {
          "output_type": "stream",
          "text": [
            "Downloading animals10.zip to /content/drive/My Drive/Data/animal-10\n",
            "100% 584M/586M [00:06<00:00, 113MB/s]\n",
            "100% 586M/586M [00:06<00:00, 96.6MB/s]\n"
          ],
          "name": "stdout"
        }
      ]
    },
    {
      "cell_type": "markdown",
      "metadata": {
        "colab_type": "text",
        "id": "eK6MQXUo_WEz"
      },
      "source": [
        "# ***2. Preprocessing***"
      ]
    },
    {
      "cell_type": "code",
      "metadata": {
        "colab_type": "code",
        "id": "pytTrf5PASck",
        "colab": {}
      },
      "source": [
        "!mkdir data"
      ],
      "execution_count": null,
      "outputs": []
    },
    {
      "cell_type": "markdown",
      "metadata": {
        "id": "AQp4-EDNo0Sc",
        "colab_type": "text"
      },
      "source": [
        "Unzip animals10.zip"
      ]
    },
    {
      "cell_type": "code",
      "metadata": {
        "colab_type": "code",
        "id": "5S3NEs0X_fEQ",
        "colab": {}
      },
      "source": [
        "import zipfile\n",
        "\n",
        "local_zip = '/content/drive/My Drive/Data/animal-10/animals10.zip'\n",
        "zip_ref = zipfile.ZipFile(local_zip, 'r')\n",
        "zip_ref.extractall(\".\")\n",
        "zip_ref.close()"
      ],
      "execution_count": null,
      "outputs": []
    },
    {
      "cell_type": "markdown",
      "metadata": {
        "id": "tpO3rYhLo5fR",
        "colab_type": "text"
      },
      "source": [
        "Hiện thị số ảnh của mỗi loại động vật"
      ]
    },
    {
      "cell_type": "code",
      "metadata": {
        "colab_type": "code",
        "id": "cYawLiKbBXqW",
        "colab": {
          "base_uri": "https://localhost:8080/",
          "height": 297
        },
        "outputId": "cfcf662b-d7d5-44f6-f00e-a42596283a2e"
      },
      "source": [
        "import matplotlib.pyplot as plt\n",
        "import os\n",
        "import numpy as np\n",
        "%matplotlib inline\n",
        "\n",
        "def barChart(data):\n",
        "    \"\"\"\n",
        "    Agr:\n",
        "    - data: type is the dictionary. Keys is the name of class, values is the numbers of elements in class.\n",
        "    Return:\n",
        "    - Bar chart of data\n",
        "    \"\"\"\n",
        "    x_pos = [i for i, _ in enumerate(data.keys())]\n",
        "    plt.bar(x_pos, data.values())\n",
        "    plt.xticks(x_pos, data.keys(), rotation = 45)\n",
        "    plt.show()\n",
        "    \n",
        "base_dir = '/content/drive/My Drive/Data/animal-10'\n",
        "raw_data = os.path.join(base_dir, 'raw-img')\n",
        "list_animal = os.listdir(raw_data)\n",
        "\n",
        "num_of_each_animal = {}\n",
        "# translate = {\"cane\": \"dog\", \"cavallo\": \"horse\", \"elefante\": \"elephant\", \"farfalla\": \"butterfly\", \"gallina\": \"chicken\", \"gatto\": \"cat\", \"mucca\": \"cow\", \"pecora\": \"sheep\", \"scoiattolo\": \"squirrel\", \"ragno\": \"spider\"}\n",
        "for x in list_animal:\n",
        "    temp1 = os.path.join(raw_data, x)\n",
        "    temp2 = os.path.join(raw_data, x)\n",
        "    os.rename(temp1, temp2)\n",
        "    num = os.listdir(temp2)\n",
        "    num_of_each_animal[x] = len(num)\n",
        "barChart(num_of_each_animal)"
      ],
      "execution_count": null,
      "outputs": [
        {
          "output_type": "display_data",
          "data": {
            "image/png": "[encoded data removed]",
            "text/plain": [
              "<Figure size 432x288 with 1 Axes>"
            ]
          },
          "metadata": {
            "tags": [],
            "needs_background": "light"
          }
        }
      ]
    },
    {
      "cell_type": "markdown",
      "metadata": {
        "colab_type": "text",
        "id": "eGoZ2jYXJYG_"
      },
      "source": [
        "Train-Val-Test = 70-10-20"
      ]
    },
    {
      "cell_type": "markdown",
      "metadata": {
        "id": "3exwmziqpC7N",
        "colab_type": "text"
      },
      "source": [
        "Tạo 3 folder train, val và test."
      ]
    },
    {
      "cell_type": "code",
      "metadata": {
        "colab_type": "code",
        "id": "cSCK-B7NNIeT",
        "colab": {}
      },
      "source": [
        "import os\n",
        "import shutil\n",
        "\n",
        "def createDir(path, list_dir):\n",
        "    \"\"\"\n",
        "    Agr:\n",
        "    - path: là đường dẫn lưu các sub directory. This is a string.\n",
        "    - list_dir: là danh sách các thư mục sẽ được tạo. This is a list.\n",
        "    Return:\n",
        "    - path of each directory in dict\n",
        "    \"\"\"\n",
        "    path_of_dir = {}\n",
        "    for x in list_dir:\n",
        "        new_dir = os.path.join(path, x)\n",
        "        if not os.path.exists(new_dir):\n",
        "            os.mkdir(new_dir)\n",
        "        path_of_dir[x] = new_dir\n",
        "    return path_of_dir\n",
        "def processRawData(raw_path, ratio, des_path):\n",
        "    \"\"\"\n",
        "    Agr:\n",
        "    - raw_path: this is the path of raw data.(string)\n",
        "    - ratio: this is the ratio of train-val-test data.(list)\n",
        "    - des_path: this is the path of save data is processed.(string)\n",
        "    Return:\n",
        "    - data is processed.\n",
        "    \"\"\"\n",
        "    #Create data diretory\n",
        "    data_dir = createDir(des_path, ['data'])['data']\n",
        "    part_data = ['train', 'val', 'test']\n",
        "    data_class = createDir(data_dir, part_data)\n",
        "    #Create class directory\n",
        "    raw_class = os.listdir(raw_path)\n",
        "    path_of_class = {}\n",
        "    for x in part_data:\n",
        "        tem = createDir(data_class[x], raw_class)\n",
        "        path_of_class[x] = tem\n",
        "    #Div data\n",
        "    for x in raw_class:\n",
        "        raw_data_dir = os.path.join(raw_path, x)\n",
        "        raw_data = os.listdir(raw_data_dir)\n",
        "\n",
        "        train = int(len(raw_data)*ratio[0])\n",
        "        val = int(len(raw_data)*(ratio[0] + ratio[1]))\n",
        "        \n",
        "        for y in raw_data[:train]:\n",
        "            tem = os.path.join(raw_data_dir, y)\n",
        "            shutil.copy(tem, path_of_class['train'][x])\n",
        "        for y in raw_data[train:val]:\n",
        "            tem = os.path.join(raw_data_dir, y)\n",
        "            shutil.copy(tem, path_of_class['val'][x])\n",
        "        for y in raw_data[val:]:\n",
        "            tem = os.path.join(raw_data_dir, y)\n",
        "            shutil.copy(tem, path_of_class['test'][x])\n",
        "base_dir = '/content/drive/My Drive/Data/animal-10'\n",
        "raw_dir = os.path.join(base_dir, 'raw-img')\n",
        "processRawData(raw_dir, [0.7, 0.1, 0.2], base_dir)"
      ],
      "execution_count": null,
      "outputs": []
    },
    {
      "cell_type": "code",
      "metadata": {
        "colab_type": "code",
        "id": "NIubYX8z69d9",
        "colab": {
          "base_uri": "https://localhost:8080/",
          "height": 374
        },
        "outputId": "9ee765b5-cbb1-4487-e941-d8b2ad19d40e"
      },
      "source": [
        "def check(raw_dir, data_dir):\n",
        "    raw_class = os.listdir(raw_dir)\n",
        "    test = os.path.join(data_dir, 'test')\n",
        "    print(test)\n",
        "    for x in raw_class:        \n",
        "        amount_raw = len(os.listdir(os.path.join(raw_dir, x)))        \n",
        "        amount_data = 0\n",
        "        for y in ['train', 'val', 'test']:\n",
        "            tem = os.path.join(data_dir, y)\n",
        "            tem = os.path.join(tem, x)\n",
        "            amount_data += len(os.listdir(tem))\n",
        "        print(x, \":\", amount_raw == amount_data, amount_data, amount_raw)\n",
        "        print(x, \"test:\", len(os.listdir(os.path.join(test, x))))\n",
        "base_dir = '/content/drive/My Drive/Data/animal-10'\n",
        "raw_dir = os.path.join(base_dir, 'raw-img')\n",
        "data_dir = os.path.join(base_dir, 'data')\n",
        "check(raw_dir, data_dir)"
      ],
      "execution_count": null,
      "outputs": [
        {
          "output_type": "stream",
          "text": [
            "/content/drive/My Drive/Data/animal-10/data/test\n",
            "cane : True 4863 4863\n",
            "cane test: 973\n",
            "cavallo : True 2623 2623\n",
            "cavallo test: 525\n",
            "elefante : True 1446 1446\n",
            "elefante test: 290\n",
            "farfalla : True 2112 2112\n",
            "farfalla test: 423\n",
            "gallina : True 3098 3098\n",
            "gallina test: 620\n",
            "gatto : True 1668 1668\n",
            "gatto test: 334\n",
            "mucca : True 1866 1866\n",
            "mucca test: 374\n",
            "pecora : True 1820 1820\n",
            "pecora test: 365\n",
            "ragno : True 4821 4821\n",
            "ragno test: 965\n",
            "scoiattolo : True 1862 1862\n",
            "scoiattolo test: 373\n"
          ],
          "name": "stdout"
        }
      ]
    },
    {
      "cell_type": "markdown",
      "metadata": {
        "colab_type": "text",
        "id": "a3B4lQejHVBa"
      },
      "source": [
        "# ***3. Preprocessing image***"
      ]
    },
    {
      "cell_type": "code",
      "metadata": {
        "colab_type": "code",
        "id": "hB34jAgH_oNs",
        "colab": {}
      },
      "source": [
        "%tensorflow_version 2.x"
      ],
      "execution_count": null,
      "outputs": []
    },
    {
      "cell_type": "code",
      "metadata": {
        "colab_type": "code",
        "id": "bxVlddGlHkFK",
        "colab": {}
      },
      "source": [
        "import os\n",
        "from tensorflow.keras.preprocessing.image import ImageDataGenerator"
      ],
      "execution_count": null,
      "outputs": []
    },
    {
      "cell_type": "markdown",
      "metadata": {
        "id": "0FdAqbwTpaDe",
        "colab_type": "text"
      },
      "source": [
        "Tạo một ImageDataGenerator. Dùng để đọc một folder."
      ]
    },
    {
      "cell_type": "code",
      "metadata": {
        "colab_type": "code",
        "id": "hS8tMUmKDYa1",
        "colab": {
          "base_uri": "https://localhost:8080/",
          "height": 68
        },
        "outputId": "c814c5ef-dde9-4ccf-a62c-e8ecdbb03334"
      },
      "source": [
        "base_dir = '/content/drive/My Drive/Data/animal-10/data'\n",
        "\n",
        "train_dir = os.path.join(base_dir, 'train')\n",
        "validation_dir = os.path.join(base_dir, 'val')\n",
        "evaluation_dir = os.path.join(base_dir, 'test')\n",
        "train_datagen = ImageDataGenerator(rescale = 1./255,\n",
        "                                   rotation_range = 40,\n",
        "                                   width_shift_range = 0.2,\n",
        "                                   height_shift_range = 0.2,\n",
        "                                   shear_range = 0.2,\n",
        "                                   zoom_range = 0.2,\n",
        "                                   horizontal_flip = True)\n",
        "val_datagen  = ImageDataGenerator(rescale = 1./255)\n",
        "evl_datagen = ImageDataGenerator(rescale = 1./255)\n",
        "\n",
        "train_generator = train_datagen.flow_from_directory(\n",
        "    train_dir,\n",
        "    target_size = (224, 224),\n",
        "    batch_size = 128,\n",
        "    class_mode = 'categorical')\n",
        "validation_generation = val_datagen.flow_from_directory(\n",
        "    validation_dir,\n",
        "    target_size = (224, 224),\n",
        "    batch_size = 64,\n",
        "    class_mode = 'categorical')\n",
        "evaluation_generation = evl_datagen.flow_from_directory(\n",
        "    evaluation_dir,\n",
        "    target_size = (224, 224),\n",
        "    batch_size = 64,\n",
        "    class_mode = 'categorical',\n",
        "    shuffle = False)"
      ],
      "execution_count": null,
      "outputs": [
        {
          "output_type": "stream",
          "text": [
            "Found 18322 images belonging to 10 classes.\n",
            "Found 2615 images belonging to 10 classes.\n",
            "Found 5242 images belonging to 10 classes.\n"
          ],
          "name": "stdout"
        }
      ]
    },
    {
      "cell_type": "markdown",
      "metadata": {
        "colab_type": "text",
        "id": "nrBpOjAl_N8i"
      },
      "source": [
        "# ***4. Model:***"
      ]
    },
    {
      "cell_type": "code",
      "metadata": {
        "colab_type": "code",
        "id": "wPuBnbSIArv_",
        "colab": {}
      },
      "source": [
        "from tensorflow.keras import layers\n",
        "from tensorflow.keras import Model \n",
        "\n",
        "from tensorflow.keras.optimizers import SGD, RMSprop, Adam\n",
        "from tensorflow.keras.applications.vgg16 import VGG16"
      ],
      "execution_count": null,
      "outputs": []
    },
    {
      "cell_type": "code",
      "metadata": {
        "colab_type": "code",
        "id": "pkMJCfDfDqzu",
        "colab": {
          "base_uri": "https://localhost:8080/",
          "height": 51
        },
        "outputId": "2e522cb3-f334-4292-fc7e-90ebd1c95d31"
      },
      "source": [
        "# Create VGG16 model\n",
        "input_tensor = layers.Input(shape=(224, 224, 3))\n",
        "model = VGG16(weights='imagenet', include_top=False, input_tensor=input_tensor)"
      ],
      "execution_count": null,
      "outputs": [
        {
          "output_type": "stream",
          "text": [
            "Downloading data from https://storage.googleapis.com/tensorflow/keras-applications/vgg16/vgg16_weights_tf_dim_ordering_tf_kernels_notop.h5\n",
            "58892288/58889256 [==============================] - 0s 0us/step\n"
          ],
          "name": "stdout"
        }
      ]
    },
    {
      "cell_type": "code",
      "metadata": {
        "id": "eZhmo_LDgt3y",
        "colab_type": "code",
        "colab": {
          "base_uri": "https://localhost:8080/",
          "height": 34
        },
        "outputId": "1f52a0c2-df2e-45bf-b577-45fce6cb0b68"
      },
      "source": [
        "# Freeze first 15 layer\n",
        "for layer in model.layers[:15]:\n",
        "    layer.trainable = False\n",
        "last_layer = model.get_layer('block5_pool')\n",
        "last_output = last_layer.output\n",
        "print(last_output)"
      ],
      "execution_count": null,
      "outputs": [
        {
          "output_type": "stream",
          "text": [
            "Tensor(\"block5_pool/Identity:0\", shape=(None, 7, 7, 512), dtype=float32)\n"
          ],
          "name": "stdout"
        }
      ]
    },
    {
      "cell_type": "code",
      "metadata": {
        "id": "cF2RvsQdgwva",
        "colab_type": "code",
        "colab": {
          "base_uri": "https://localhost:8080/",
          "height": 935
        },
        "outputId": "e5ca5ac6-4690-4e6f-ac35-7165e2299e3b"
      },
      "source": [
        "# Build Fully-connected\n",
        "top_model = layers.Flatten()(last_output)\n",
        "top_model = layers.Dropout(0.5)(top_model)\n",
        "top_model = layers.Dense(1024, activation = 'relu')(top_model)\n",
        "top_model = layers.Dense(10, activation = 'softmax')(top_model)\n",
        "\n",
        "model = Model(model.input, top_model)\n",
        "\n",
        "model.summary()"
      ],
      "execution_count": null,
      "outputs": [
        {
          "output_type": "stream",
          "text": [
            "Model: \"model\"\n",
            "_________________________________________________________________\n",
            "Layer (type)                 Output Shape              Param #   \n",
            "=================================================================\n",
            "input_1 (InputLayer)         [(None, 224, 224, 3)]     0         \n",
            "_________________________________________________________________\n",
            "block1_conv1 (Conv2D)        (None, 224, 224, 64)      1792      \n",
            "_________________________________________________________________\n",
            "block1_conv2 (Conv2D)        (None, 224, 224, 64)      36928     \n",
            "_________________________________________________________________\n",
            "block1_pool (MaxPooling2D)   (None, 112, 112, 64)      0         \n",
            "_________________________________________________________________\n",
            "block2_conv1 (Conv2D)        (None, 112, 112, 128)     73856     \n",
            "_________________________________________________________________\n",
            "block2_conv2 (Conv2D)        (None, 112, 112, 128)     147584    \n",
            "_________________________________________________________________\n",
            "block2_pool (MaxPooling2D)   (None, 56, 56, 128)       0         \n",
            "_________________________________________________________________\n",
            "block3_conv1 (Conv2D)        (None, 56, 56, 256)       295168    \n",
            "_________________________________________________________________\n",
            "block3_conv2 (Conv2D)        (None, 56, 56, 256)       590080    \n",
            "_________________________________________________________________\n",
            "block3_conv3 (Conv2D)        (None, 56, 56, 256)       590080    \n",
            "_________________________________________________________________\n",
            "block3_pool (MaxPooling2D)   (None, 28, 28, 256)       0         \n",
            "_________________________________________________________________\n",
            "block4_conv1 (Conv2D)        (None, 28, 28, 512)       1180160   \n",
            "_________________________________________________________________\n",
            "block4_conv2 (Conv2D)        (None, 28, 28, 512)       2359808   \n",
            "_________________________________________________________________\n",
            "block4_conv3 (Conv2D)        (None, 28, 28, 512)       2359808   \n",
            "_________________________________________________________________\n",
            "block4_pool (MaxPooling2D)   (None, 14, 14, 512)       0         \n",
            "_________________________________________________________________\n",
            "block5_conv1 (Conv2D)        (None, 14, 14, 512)       2359808   \n",
            "_________________________________________________________________\n",
            "block5_conv2 (Conv2D)        (None, 14, 14, 512)       2359808   \n",
            "_________________________________________________________________\n",
            "block5_conv3 (Conv2D)        (None, 14, 14, 512)       2359808   \n",
            "_________________________________________________________________\n",
            "block5_pool (MaxPooling2D)   (None, 7, 7, 512)         0         \n",
            "_________________________________________________________________\n",
            "flatten (Flatten)            (None, 25088)             0         \n",
            "_________________________________________________________________\n",
            "dropout (Dropout)            (None, 25088)             0         \n",
            "_________________________________________________________________\n",
            "dense (Dense)                (None, 1024)              25691136  \n",
            "_________________________________________________________________\n",
            "dense_1 (Dense)              (None, 10)                10250     \n",
            "=================================================================\n",
            "Total params: 40,416,074\n",
            "Trainable params: 32,780,810\n",
            "Non-trainable params: 7,635,264\n",
            "_________________________________________________________________\n"
          ],
          "name": "stdout"
        }
      ]
    },
    {
      "cell_type": "code",
      "metadata": {
        "id": "RncRHGusg4oT",
        "colab_type": "code",
        "colab": {}
      },
      "source": [
        "model.compile(loss = 'categorical_crossentropy',\n",
        "                optimizer=Adam(lr = 0.0001),\n",
        "                metrics = ['acc'])"
      ],
      "execution_count": null,
      "outputs": []
    },
    {
      "cell_type": "code",
      "metadata": {
        "id": "8VmK-64_3DEP",
        "colab_type": "code",
        "colab": {
          "base_uri": "https://localhost:8080/",
          "height": 51
        },
        "outputId": "e238596d-a97d-4f98-8e5c-1d196868265f"
      },
      "source": [
        "step_epoch = train_generator.n//train_generator.batch_size + 1\n",
        "step_vali = validation_generation.n//validation_generation.batch_size + 1\n",
        "print(step_epoch)\n",
        "print(step_vali)"
      ],
      "execution_count": null,
      "outputs": [
        {
          "output_type": "stream",
          "text": [
            "144\n",
            "41\n"
          ],
          "name": "stdout"
        }
      ]
    },
    {
      "cell_type": "code",
      "metadata": {
        "colab_type": "code",
        "id": "pNWXxdoBlPIY",
        "colab": {
          "base_uri": "https://localhost:8080/",
          "height": 1000
        },
        "outputId": "a6049329-5efd-4c4d-bb0c-8034f436427c"
      },
      "source": [
        "history = model.fit_generator(\n",
        "    train_generator,\n",
        "    steps_per_epoch = step_epoch,\n",
        "    epochs = 50,\n",
        "    validation_data = validation_generation,\n",
        "    validation_steps = step_vali,\n",
        "    verbose = 1)\n",
        "model.save('./model.h5')\n",
        "import pickle\n",
        "with open('./trainHistory', 'wb') as f:\n",
        "    pickle.dump(history.history, f)"
      ],
      "execution_count": null,
      "outputs": [
        {
          "output_type": "stream",
          "text": [
            "WARNING:tensorflow:From <ipython-input-32-c62fd4e8b188>:7: Model.fit_generator (from tensorflow.python.keras.engine.training) is deprecated and will be removed in a future version.\n",
            "Instructions for updating:\n",
            "Please use Model.fit, which supports generators.\n",
            "Epoch 1/50\n",
            "144/144 [==============================] - 363s 3s/step - loss: 1.1845 - acc: 0.5987 - val_loss: 0.5486 - val_acc: 0.8203\n",
            "Epoch 2/50\n",
            "144/144 [==============================] - 378s 3s/step - loss: 0.5772 - acc: 0.8079 - val_loss: 0.4253 - val_acc: 0.8593\n",
            "Epoch 3/50\n",
            "144/144 [==============================] - 355s 2s/step - loss: 0.4499 - acc: 0.8513 - val_loss: 0.3503 - val_acc: 0.8830\n",
            "Epoch 4/50\n",
            "144/144 [==============================] - 356s 2s/step - loss: 0.3786 - acc: 0.8739 - val_loss: 0.2964 - val_acc: 0.9117\n",
            "Epoch 5/50\n",
            "144/144 [==============================] - 354s 2s/step - loss: 0.3267 - acc: 0.8905 - val_loss: 0.2982 - val_acc: 0.9109\n",
            "Epoch 6/50\n",
            "144/144 [==============================] - 353s 2s/step - loss: 0.2937 - acc: 0.9034 - val_loss: 0.2903 - val_acc: 0.9113\n",
            "Epoch 7/50\n",
            "144/144 [==============================] - 353s 2s/step - loss: 0.2656 - acc: 0.9130 - val_loss: 0.2681 - val_acc: 0.9235\n",
            "Epoch 8/50\n",
            "144/144 [==============================] - 355s 2s/step - loss: 0.2415 - acc: 0.9212 - val_loss: 0.3067 - val_acc: 0.9094\n",
            "Epoch 9/50\n",
            "144/144 [==============================] - 354s 2s/step - loss: 0.2261 - acc: 0.9258 - val_loss: 0.2847 - val_acc: 0.9197\n",
            "Epoch 10/50\n",
            "144/144 [==============================] - 354s 2s/step - loss: 0.1970 - acc: 0.9351 - val_loss: 0.3219 - val_acc: 0.9120\n",
            "Epoch 11/50\n",
            "144/144 [==============================] - 350s 2s/step - loss: 0.1929 - acc: 0.9359 - val_loss: 0.2528 - val_acc: 0.9220\n",
            "Epoch 12/50\n",
            "144/144 [==============================] - 352s 2s/step - loss: 0.1803 - acc: 0.9418 - val_loss: 0.3180 - val_acc: 0.9193\n",
            "Epoch 13/50\n",
            "144/144 [==============================] - 349s 2s/step - loss: 0.1860 - acc: 0.9384 - val_loss: 0.2832 - val_acc: 0.9216\n",
            "Epoch 14/50\n",
            "144/144 [==============================] - 349s 2s/step - loss: 0.1478 - acc: 0.9503 - val_loss: 0.2522 - val_acc: 0.9335\n",
            "Epoch 15/50\n",
            "144/144 [==============================] - 350s 2s/step - loss: 0.1366 - acc: 0.9543 - val_loss: 0.2857 - val_acc: 0.9250\n",
            "Epoch 16/50\n",
            "144/144 [==============================] - 345s 2s/step - loss: 0.1302 - acc: 0.9566 - val_loss: 0.2987 - val_acc: 0.9273\n",
            "Epoch 17/50\n",
            "144/144 [==============================] - 347s 2s/step - loss: 0.1256 - acc: 0.9567 - val_loss: 0.3314 - val_acc: 0.9120\n",
            "Epoch 18/50\n",
            "144/144 [==============================] - 346s 2s/step - loss: 0.1211 - acc: 0.9595 - val_loss: 0.3025 - val_acc: 0.9193\n",
            "Epoch 19/50\n",
            "144/144 [==============================] - 342s 2s/step - loss: 0.1113 - acc: 0.9623 - val_loss: 0.3119 - val_acc: 0.9235\n",
            "Epoch 20/50\n",
            "144/144 [==============================] - 343s 2s/step - loss: 0.1071 - acc: 0.9648 - val_loss: 0.3208 - val_acc: 0.9220\n",
            "Epoch 21/50\n",
            "144/144 [==============================] - 336s 2s/step - loss: 0.0935 - acc: 0.9683 - val_loss: 0.3956 - val_acc: 0.9078\n",
            "Epoch 22/50\n",
            "144/144 [==============================] - 335s 2s/step - loss: 0.1080 - acc: 0.9628 - val_loss: 0.3080 - val_acc: 0.9273\n",
            "Epoch 23/50\n",
            "144/144 [==============================] - 334s 2s/step - loss: 0.0931 - acc: 0.9678 - val_loss: 0.3406 - val_acc: 0.9258\n",
            "Epoch 24/50\n",
            "144/144 [==============================] - 334s 2s/step - loss: 0.0949 - acc: 0.9693 - val_loss: 0.3397 - val_acc: 0.9208\n",
            "Epoch 25/50\n",
            "144/144 [==============================] - 340s 2s/step - loss: 0.0826 - acc: 0.9724 - val_loss: 0.3368 - val_acc: 0.9247\n",
            "Epoch 26/50\n",
            "144/144 [==============================] - 334s 2s/step - loss: 0.0833 - acc: 0.9706 - val_loss: 0.3204 - val_acc: 0.9270\n",
            "Epoch 27/50\n",
            "144/144 [==============================] - 332s 2s/step - loss: 0.0753 - acc: 0.9745 - val_loss: 0.3428 - val_acc: 0.9243\n",
            "Epoch 28/50\n",
            "144/144 [==============================] - 337s 2s/step - loss: 0.0677 - acc: 0.9773 - val_loss: 0.3810 - val_acc: 0.9205\n",
            "Epoch 29/50\n",
            "144/144 [==============================] - 332s 2s/step - loss: 0.0615 - acc: 0.9796 - val_loss: 0.3202 - val_acc: 0.9247\n",
            "Epoch 30/50\n",
            "144/144 [==============================] - 337s 2s/step - loss: 0.0740 - acc: 0.9767 - val_loss: 0.4565 - val_acc: 0.9063\n",
            "Epoch 31/50\n",
            "144/144 [==============================] - 334s 2s/step - loss: 0.0716 - acc: 0.9766 - val_loss: 0.2866 - val_acc: 0.9346\n",
            "Epoch 32/50\n",
            "144/144 [==============================] - 333s 2s/step - loss: 0.0616 - acc: 0.9799 - val_loss: 0.3933 - val_acc: 0.9254\n",
            "Epoch 33/50\n",
            "144/144 [==============================] - 336s 2s/step - loss: 0.0648 - acc: 0.9786 - val_loss: 0.3506 - val_acc: 0.9300\n",
            "Epoch 34/50\n",
            "144/144 [==============================] - 336s 2s/step - loss: 0.0685 - acc: 0.9788 - val_loss: 0.3528 - val_acc: 0.9212\n",
            "Epoch 35/50\n",
            "144/144 [==============================] - 337s 2s/step - loss: 0.0601 - acc: 0.9808 - val_loss: 0.3870 - val_acc: 0.9243\n",
            "Epoch 36/50\n",
            "144/144 [==============================] - 335s 2s/step - loss: 0.0596 - acc: 0.9804 - val_loss: 0.4170 - val_acc: 0.9178\n",
            "Epoch 37/50\n",
            "144/144 [==============================] - 333s 2s/step - loss: 0.0609 - acc: 0.9801 - val_loss: 0.3895 - val_acc: 0.9220\n",
            "Epoch 38/50\n",
            "144/144 [==============================] - 332s 2s/step - loss: 0.0518 - acc: 0.9829 - val_loss: 0.3555 - val_acc: 0.9220\n",
            "Epoch 39/50\n",
            "144/144 [==============================] - 334s 2s/step - loss: 0.0599 - acc: 0.9805 - val_loss: 0.3708 - val_acc: 0.9312\n",
            "Epoch 40/50\n",
            "144/144 [==============================] - 332s 2s/step - loss: 0.0664 - acc: 0.9790 - val_loss: 0.3360 - val_acc: 0.9243\n",
            "Epoch 41/50\n",
            "144/144 [==============================] - 330s 2s/step - loss: 0.0571 - acc: 0.9816 - val_loss: 0.3663 - val_acc: 0.9281\n",
            "Epoch 42/50\n",
            "144/144 [==============================] - 337s 2s/step - loss: 0.0468 - acc: 0.9847 - val_loss: 0.4041 - val_acc: 0.9254\n",
            "Epoch 43/50\n",
            "144/144 [==============================] - 334s 2s/step - loss: 0.0505 - acc: 0.9820 - val_loss: 0.4086 - val_acc: 0.9208\n",
            "Epoch 44/50\n",
            "144/144 [==============================] - 335s 2s/step - loss: 0.0524 - acc: 0.9824 - val_loss: 0.3708 - val_acc: 0.9300\n",
            "Epoch 45/50\n",
            "144/144 [==============================] - 332s 2s/step - loss: 0.0531 - acc: 0.9823 - val_loss: 0.3476 - val_acc: 0.9327\n",
            "Epoch 46/50\n",
            "144/144 [==============================] - 333s 2s/step - loss: 0.0459 - acc: 0.9848 - val_loss: 0.3760 - val_acc: 0.9319\n",
            "Epoch 47/50\n",
            "144/144 [==============================] - 332s 2s/step - loss: 0.0342 - acc: 0.9880 - val_loss: 0.3579 - val_acc: 0.9300\n",
            "Epoch 48/50\n",
            "144/144 [==============================] - 334s 2s/step - loss: 0.0510 - acc: 0.9833 - val_loss: 0.4232 - val_acc: 0.9228\n",
            "Epoch 49/50\n",
            "144/144 [==============================] - 336s 2s/step - loss: 0.0446 - acc: 0.9856 - val_loss: 0.4971 - val_acc: 0.9128\n",
            "Epoch 50/50\n",
            "144/144 [==============================] - 338s 2s/step - loss: 0.0443 - acc: 0.9867 - val_loss: 0.3866 - val_acc: 0.9296\n"
          ],
          "name": "stdout"
        }
      ]
    },
    {
      "cell_type": "markdown",
      "metadata": {
        "colab_type": "text",
        "id": "Nz3cXfAsEGB8"
      },
      "source": [
        "Lưu Model và lịch sử huấn luyện:"
      ]
    },
    {
      "cell_type": "markdown",
      "metadata": {
        "colab_type": "text",
        "id": "_NjUFBu1D9Wv"
      },
      "source": [
        "# ***5. Đánh giá***"
      ]
    },
    {
      "cell_type": "code",
      "metadata": {
        "id": "Q-G9SS5rwkj1",
        "colab_type": "code",
        "colab": {
          "base_uri": "https://localhost:8080/",
          "height": 34
        },
        "outputId": "7a635add-5148-47f7-b1c3-792aff1ea2fb"
      },
      "source": [
        "%cd /content/drive/My\\ Drive/Data/animal-10"
      ],
      "execution_count": null,
      "outputs": [
        {
          "output_type": "stream",
          "text": [
            "/content/drive/My Drive/Data/animal-10\n"
          ],
          "name": "stdout"
        }
      ]
    },
    {
      "cell_type": "code",
      "metadata": {
        "colab_type": "code",
        "id": "Kfk6eed6O2HR",
        "colab": {
          "base_uri": "https://localhost:8080/",
          "height": 562
        },
        "outputId": "1dd308ec-97ad-4c3c-bec3-42aa4ba7cdf1"
      },
      "source": [
        "import matplotlib.pyplot as plt\n",
        "import os\n",
        "import numpy as np\n",
        "%matplotlib inline\n",
        "import pickle\n",
        "with open('./trainHistory', 'rb') as f:\n",
        "    history = pickle.load(f)\n",
        "# Retrieve a list of accuracy results on training and validation data\n",
        "# sets for each training epoch\n",
        "acc = history['acc']\n",
        "val_acc = history['val_acc']\n",
        "\n",
        "# Retrieve a list of list results on training and validation data\n",
        "# sets for each training epoch\n",
        "loss = history['loss']\n",
        "val_loss = history['val_loss']\n",
        "\n",
        "# Get number of epochs\n",
        "epochs = range(len(acc))\n",
        "\n",
        "# Plot training and validation accuracy per epoch\n",
        "plt.plot(history['acc'],'green',label='Acc')\n",
        "plt.plot(history['val_acc'],'red',label='Val_acc')\n",
        "plt.legend(loc='upper left')\n",
        "# plt.plot(epochs, acc)\n",
        "# plt.plot(epochs, val_acc)\n",
        "plt.title('Training and validation accuracy')\n",
        "\n",
        "plt.figure()\n",
        "\n",
        "# Plot training and validation loss per epoch\n",
        "plt.plot(history['loss'],'green',label='Loss')\n",
        "plt.plot(history['val_loss'],'red',label='Val_loss')\n",
        "plt.legend(loc='upper left')\n",
        "# plt.plot(epochs, loss)\n",
        "# plt.plot(epochs, val_loss)\n",
        "plt.title('Training and validation loss')"
      ],
      "execution_count": null,
      "outputs": [
        {
          "output_type": "execute_result",
          "data": {
            "text/plain": [
              "Text(0.5, 1.0, 'Training and validation loss')"
            ]
          },
          "metadata": {
            "tags": []
          },
          "execution_count": 34
        },
        {
          "output_type": "display_data",
          "data": {
            "image/png": "[encoded data removed]",
            "text/plain": [
              "<Figure size 432x288 with 1 Axes>"
            ]
          },
          "metadata": {
            "tags": [],
            "needs_background": "light"
          }
        },
        {
          "output_type": "display_data",
          "data": {
            "image/png": "[encoded data removed]",
            "text/plain": [
              "<Figure size 432x288 with 1 Axes>"
            ]
          },
          "metadata": {
            "tags": [],
            "needs_background": "light"
          }
        }
      ]
    },
    {
      "cell_type": "code",
      "metadata": {
        "colab_type": "code",
        "id": "GqH4-Ga9PBn4",
        "colab": {
          "base_uri": "https://localhost:8080/",
          "height": 52
        },
        "outputId": "783e2ac8-c700-456b-bbc7-f7f37d3dc72f"
      },
      "source": [
        "import matplotlib.pyplot as plt\n",
        "import numpy as np\n",
        "from sklearn.metrics import classification_report, confusion_matrix\n",
        "import itertools\n",
        "%matplotlib inline\n",
        "def draw_heatmap_confusion_matrix(y_true, y_pred, classes):\n",
        "    cm = confusion_matrix(y_true, y_pred)\n",
        "    classes.sort()\n",
        "\n",
        "    tick_marks = np.arange(cm.shape[0])\n",
        "    plt.xticks(tick_marks, classes, rotation = 90)\n",
        "    plt.yticks(tick_marks, classes)\n",
        "\n",
        "    plt.imshow(cm, interpolation = 'nearest', cmap = plt.cm.Blues)\n",
        "    thresol = cm.max()*0.7 + cm.min()*0.3\n",
        "    for i, j in itertools.product(range(cm.shape[0]), range(cm.shape[0])):\n",
        "        plt.text(j, i, str(cm[i, j]), horizontalalignment=\"center\", color=\"white\" if cm[i, j] > thresol else \"black\")\n",
        "    plt.colorbar()\n",
        "\n",
        "    plt.title(\"Confusion matrix\")\n",
        "    plt.ylabel(\"True lable\", rotation = 90)\n",
        "    plt.xlabel(\"Predict lable\")\n",
        "\"\"\"\n",
        "evaluation_generation.reset()\n",
        "Y_pred = model.predict_generator(evaluation_generation)\n",
        "classes = evaluation_generation.classes[evaluation_generation.index_array]\n",
        "y_pred = np.argmax(Y_pred, axis=-1)\n",
        "\"\"\""
      ],
      "execution_count": null,
      "outputs": [
        {
          "output_type": "execute_result",
          "data": {
            "application/vnd.google.colaboratory.intrinsic": {
              "type": "string"
            },
            "text/plain": [
              "'\\nevaluation_generation.reset()\\nY_pred = model.predict_generator(evaluation_generation)\\nclasses = evaluation_generation.classes[evaluation_generation.index_array]\\ny_pred = np.argmax(Y_pred, axis=-1)\\n'"
            ]
          },
          "metadata": {
            "tags": []
          },
          "execution_count": 35
        }
      ]
    },
    {
      "cell_type": "code",
      "metadata": {
        "id": "E0ylIojcWz_M",
        "colab_type": "code",
        "colab": {
          "base_uri": "https://localhost:8080/",
          "height": 231
        },
        "outputId": "11c0246e-1c83-41f6-e2d9-9ef695eb2aff"
      },
      "source": [
        "evaluation_generation.reset()\n",
        "Y_true = evaluation_generation.labels\n",
        "\n",
        "Y_pred = model.predict_generator(evaluation_generation, steps = 82)\n",
        "y_pred = np.argmax(Y_pred, axis=-1)"
      ],
      "execution_count": null,
      "outputs": [
        {
          "output_type": "error",
          "ename": "NameError",
          "evalue": "ignored",
          "traceback": [
            "\u001b[0;31m---------------------------------------------------------------------------\u001b[0m",
            "\u001b[0;31mNameError\u001b[0m                                 Traceback (most recent call last)",
            "\u001b[0;32m<ipython-input-2-7361c6c84ced>\u001b[0m in \u001b[0;36m<module>\u001b[0;34m()\u001b[0m\n\u001b[0;32m----> 1\u001b[0;31m \u001b[0mevaluation_generation\u001b[0m\u001b[0;34m.\u001b[0m\u001b[0mreset\u001b[0m\u001b[0;34m(\u001b[0m\u001b[0;34m)\u001b[0m\u001b[0;34m\u001b[0m\u001b[0;34m\u001b[0m\u001b[0m\n\u001b[0m\u001b[1;32m      2\u001b[0m \u001b[0mY_true\u001b[0m \u001b[0;34m=\u001b[0m \u001b[0mevaluation_generation\u001b[0m\u001b[0;34m.\u001b[0m\u001b[0mlabels\u001b[0m\u001b[0;34m\u001b[0m\u001b[0;34m\u001b[0m\u001b[0m\n\u001b[1;32m      3\u001b[0m \u001b[0;34m\u001b[0m\u001b[0m\n\u001b[1;32m      4\u001b[0m \u001b[0mY_pred\u001b[0m \u001b[0;34m=\u001b[0m \u001b[0mmodel\u001b[0m\u001b[0;34m.\u001b[0m\u001b[0mpredict_generator\u001b[0m\u001b[0;34m(\u001b[0m\u001b[0mevaluation_generation\u001b[0m\u001b[0;34m,\u001b[0m \u001b[0msteps\u001b[0m \u001b[0;34m=\u001b[0m \u001b[0;36m82\u001b[0m\u001b[0;34m)\u001b[0m\u001b[0;34m\u001b[0m\u001b[0;34m\u001b[0m\u001b[0m\n\u001b[1;32m      5\u001b[0m \u001b[0my_pred\u001b[0m \u001b[0;34m=\u001b[0m \u001b[0mnp\u001b[0m\u001b[0;34m.\u001b[0m\u001b[0margmax\u001b[0m\u001b[0;34m(\u001b[0m\u001b[0mY_pred\u001b[0m\u001b[0;34m,\u001b[0m \u001b[0maxis\u001b[0m\u001b[0;34m=\u001b[0m\u001b[0;34m-\u001b[0m\u001b[0;36m1\u001b[0m\u001b[0;34m)\u001b[0m\u001b[0;34m\u001b[0m\u001b[0;34m\u001b[0m\u001b[0m\n",
            "\u001b[0;31mNameError\u001b[0m: name 'evaluation_generation' is not defined"
          ]
        }
      ]
    },
    {
      "cell_type": "code",
      "metadata": {
        "colab_type": "code",
        "id": "w_aGxZOI41jg",
        "colab": {
          "base_uri": "https://localhost:8080/",
          "height": 231
        },
        "outputId": "eb73fae2-3623-47f9-aad9-b15c5cfae6b8"
      },
      "source": [
        "base_dir = '/content/drive/My Drive/Data/animal-10/data'\n",
        "evaluation_dir = os.path.join(base_dir, 'test')\n",
        "target_names = os.listdir(evaluation_dir)\n",
        "draw_heatmap_confusion_matrix(Y_true, y_pred, target_names)\n",
        "print('Classification Report')\n",
        "print(classification_report(evaluation_generation.classes, y_pred, target_names=target_names))"
      ],
      "execution_count": null,
      "outputs": [
        {
          "output_type": "error",
          "ename": "NameError",
          "evalue": "ignored",
          "traceback": [
            "\u001b[0;31m---------------------------------------------------------------------------\u001b[0m",
            "\u001b[0;31mNameError\u001b[0m                                 Traceback (most recent call last)",
            "\u001b[0;32m<ipython-input-1-39398c8d2a75>\u001b[0m in \u001b[0;36m<module>\u001b[0;34m()\u001b[0m\n\u001b[1;32m      1\u001b[0m \u001b[0mbase_dir\u001b[0m \u001b[0;34m=\u001b[0m \u001b[0;34m'/content/drive/My Drive/Data/animal-10/data'\u001b[0m\u001b[0;34m\u001b[0m\u001b[0;34m\u001b[0m\u001b[0m\n\u001b[0;32m----> 2\u001b[0;31m \u001b[0mevaluation_dir\u001b[0m \u001b[0;34m=\u001b[0m \u001b[0mos\u001b[0m\u001b[0;34m.\u001b[0m\u001b[0mpath\u001b[0m\u001b[0;34m.\u001b[0m\u001b[0mjoin\u001b[0m\u001b[0;34m(\u001b[0m\u001b[0mbase_dir\u001b[0m\u001b[0;34m,\u001b[0m \u001b[0;34m'test'\u001b[0m\u001b[0;34m)\u001b[0m\u001b[0;34m\u001b[0m\u001b[0;34m\u001b[0m\u001b[0m\n\u001b[0m\u001b[1;32m      3\u001b[0m \u001b[0mtarget_names\u001b[0m \u001b[0;34m=\u001b[0m \u001b[0mos\u001b[0m\u001b[0;34m.\u001b[0m\u001b[0mlistdir\u001b[0m\u001b[0;34m(\u001b[0m\u001b[0mevaluation_dir\u001b[0m\u001b[0;34m)\u001b[0m\u001b[0;34m\u001b[0m\u001b[0;34m\u001b[0m\u001b[0m\n\u001b[1;32m      4\u001b[0m \u001b[0mdraw_heatmap_confusion_matrix\u001b[0m\u001b[0;34m(\u001b[0m\u001b[0mY_true\u001b[0m\u001b[0;34m,\u001b[0m \u001b[0my_pred\u001b[0m\u001b[0;34m,\u001b[0m \u001b[0mtarget_names\u001b[0m\u001b[0;34m)\u001b[0m\u001b[0;34m\u001b[0m\u001b[0;34m\u001b[0m\u001b[0m\n\u001b[1;32m      5\u001b[0m \u001b[0mprint\u001b[0m\u001b[0;34m(\u001b[0m\u001b[0;34m'Classification Report'\u001b[0m\u001b[0;34m)\u001b[0m\u001b[0;34m\u001b[0m\u001b[0;34m\u001b[0m\u001b[0m\n",
            "\u001b[0;31mNameError\u001b[0m: name 'os' is not defined"
          ]
        }
      ]
    },
    {
      "cell_type": "code",
      "metadata": {
        "colab_type": "code",
        "id": "4DfnJwDmPFlW",
        "colab": {
          "base_uri": "https://localhost:8080/",
          "height": 394
        },
        "outputId": "18514cef-4477-4752-eef7-d59b02d4e095"
      },
      "source": [
        "# score = model.evaluate_generator(evaluation_generation, steps = 82)\n",
        "from tensorflow.keras.models import load_model\n",
        "score = load_model('/content/drive/My Drive/Data/animal-10/raw-img/model.h5')\n",
        "print(\"loss:\", score[0])\n",
        "print(\"acc:\", score[1])"
      ],
      "execution_count": null,
      "outputs": [
        {
          "output_type": "error",
          "ename": "OSError",
          "evalue": "ignored",
          "traceback": [
            "\u001b[0;31m---------------------------------------------------------------------------\u001b[0m",
            "\u001b[0;31mOSError\u001b[0m                                   Traceback (most recent call last)",
            "\u001b[0;32m<ipython-input-39-3b268b67dbf5>\u001b[0m in \u001b[0;36m<module>\u001b[0;34m()\u001b[0m\n\u001b[1;32m      1\u001b[0m \u001b[0;31m# score = model.evaluate_generator(evaluation_generation, steps = 82)\u001b[0m\u001b[0;34m\u001b[0m\u001b[0;34m\u001b[0m\u001b[0;34m\u001b[0m\u001b[0m\n\u001b[1;32m      2\u001b[0m \u001b[0;32mfrom\u001b[0m \u001b[0mtensorflow\u001b[0m\u001b[0;34m.\u001b[0m\u001b[0mkeras\u001b[0m\u001b[0;34m.\u001b[0m\u001b[0mmodels\u001b[0m \u001b[0;32mimport\u001b[0m \u001b[0mload_model\u001b[0m\u001b[0;34m\u001b[0m\u001b[0;34m\u001b[0m\u001b[0m\n\u001b[0;32m----> 3\u001b[0;31m \u001b[0mscore\u001b[0m \u001b[0;34m=\u001b[0m \u001b[0mload_model\u001b[0m\u001b[0;34m(\u001b[0m\u001b[0;34m'/content/drive/My Drive/Data/animal-10/raw-img/model.h5'\u001b[0m\u001b[0;34m)\u001b[0m\u001b[0;34m\u001b[0m\u001b[0;34m\u001b[0m\u001b[0m\n\u001b[0m\u001b[1;32m      4\u001b[0m \u001b[0mprint\u001b[0m\u001b[0;34m(\u001b[0m\u001b[0;34m\"loss:\"\u001b[0m\u001b[0;34m,\u001b[0m \u001b[0mscore\u001b[0m\u001b[0;34m[\u001b[0m\u001b[0;36m0\u001b[0m\u001b[0;34m]\u001b[0m\u001b[0;34m)\u001b[0m\u001b[0;34m\u001b[0m\u001b[0;34m\u001b[0m\u001b[0m\n\u001b[1;32m      5\u001b[0m \u001b[0mprint\u001b[0m\u001b[0;34m(\u001b[0m\u001b[0;34m\"acc:\"\u001b[0m\u001b[0;34m,\u001b[0m \u001b[0mscore\u001b[0m\u001b[0;34m[\u001b[0m\u001b[0;36m1\u001b[0m\u001b[0;34m]\u001b[0m\u001b[0;34m)\u001b[0m\u001b[0;34m\u001b[0m\u001b[0;34m\u001b[0m\u001b[0m\n",
            "\u001b[0;32m/usr/local/lib/python3.6/dist-packages/tensorflow/python/keras/saving/save.py\u001b[0m in \u001b[0;36mload_model\u001b[0;34m(filepath, custom_objects, compile)\u001b[0m\n\u001b[1;32m    187\u001b[0m       \u001b[0mfilepath\u001b[0m \u001b[0;34m=\u001b[0m \u001b[0mstr\u001b[0m\u001b[0;34m(\u001b[0m\u001b[0mfilepath\u001b[0m\u001b[0;34m)\u001b[0m\u001b[0;34m\u001b[0m\u001b[0;34m\u001b[0m\u001b[0m\n\u001b[1;32m    188\u001b[0m     \u001b[0;32mif\u001b[0m \u001b[0misinstance\u001b[0m\u001b[0;34m(\u001b[0m\u001b[0mfilepath\u001b[0m\u001b[0;34m,\u001b[0m \u001b[0msix\u001b[0m\u001b[0;34m.\u001b[0m\u001b[0mstring_types\u001b[0m\u001b[0;34m)\u001b[0m\u001b[0;34m:\u001b[0m\u001b[0;34m\u001b[0m\u001b[0;34m\u001b[0m\u001b[0m\n\u001b[0;32m--> 189\u001b[0;31m       \u001b[0mloader_impl\u001b[0m\u001b[0;34m.\u001b[0m\u001b[0mparse_saved_model\u001b[0m\u001b[0;34m(\u001b[0m\u001b[0mfilepath\u001b[0m\u001b[0;34m)\u001b[0m\u001b[0;34m\u001b[0m\u001b[0;34m\u001b[0m\u001b[0m\n\u001b[0m\u001b[1;32m    190\u001b[0m       \u001b[0;32mreturn\u001b[0m \u001b[0msaved_model_load\u001b[0m\u001b[0;34m.\u001b[0m\u001b[0mload\u001b[0m\u001b[0;34m(\u001b[0m\u001b[0mfilepath\u001b[0m\u001b[0;34m,\u001b[0m \u001b[0mcompile\u001b[0m\u001b[0;34m)\u001b[0m\u001b[0;34m\u001b[0m\u001b[0;34m\u001b[0m\u001b[0m\n\u001b[1;32m    191\u001b[0m \u001b[0;34m\u001b[0m\u001b[0m\n",
            "\u001b[0;32m/usr/local/lib/python3.6/dist-packages/tensorflow/python/saved_model/loader_impl.py\u001b[0m in \u001b[0;36mparse_saved_model\u001b[0;34m(export_dir)\u001b[0m\n\u001b[1;32m    111\u001b[0m                   (export_dir,\n\u001b[1;32m    112\u001b[0m                    \u001b[0mconstants\u001b[0m\u001b[0;34m.\u001b[0m\u001b[0mSAVED_MODEL_FILENAME_PBTXT\u001b[0m\u001b[0;34m,\u001b[0m\u001b[0;34m\u001b[0m\u001b[0;34m\u001b[0m\u001b[0m\n\u001b[0;32m--> 113\u001b[0;31m                    constants.SAVED_MODEL_FILENAME_PB))\n\u001b[0m\u001b[1;32m    114\u001b[0m \u001b[0;34m\u001b[0m\u001b[0m\n\u001b[1;32m    115\u001b[0m \u001b[0;34m\u001b[0m\u001b[0m\n",
            "\u001b[0;31mOSError\u001b[0m: SavedModel file does not exist at: /content/drive/My Drive/Data/animal-10/raw-img/model.h5/{saved_model.pbtxt|saved_model.pb}"
          ]
        }
      ]
    },
    {
      "cell_type": "code",
      "metadata": {
        "colab_type": "code",
        "id": "LsY6YCv1EWRN",
        "colab": {}
      },
      "source": [
        "import os, signal\n",
        "os.kill(os.getpid(), signal.SIGKILL)"
      ],
      "execution_count": null,
      "outputs": []
    }
  ]
}