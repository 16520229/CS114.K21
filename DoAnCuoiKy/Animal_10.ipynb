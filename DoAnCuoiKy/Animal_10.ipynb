{
  "nbformat": 4,
  "nbformat_minor": 0,
  "metadata": {
    "colab": {
      "name": "Animal-10.ipynb",
      "provenance": [],
      "collapsed_sections": []
    },
    "kernelspec": {
      "name": "python3",
      "display_name": "Python 3"
    },
    "accelerator": "GPU"
  },
  "cells": [
    {
      "cell_type": "code",
      "metadata": {
        "colab_type": "code",
        "id": "JHAg8-Hj8Arz",
        "outputId": "ed3bc3e0-9205-4af0-b945-7b34346f5ea4",
        "colab": {
          "base_uri": "https://localhost:8080/",
          "height": 121
        }
      },
      "source": [
        "# Thêm drive vào colab\n",
        "from google.colab import drive\n",
        "drive.mount('/content/drive')"
      ],
      "execution_count": 8,
      "outputs": [
        {
          "output_type": "stream",
          "text": [
            "Go to this URL in a browser: https://accounts.google.com/o/oauth2/auth?client_id=947318989803-6bn6qk8qdgf4n4g3pfee6491hc0brc4i.apps.googleusercontent.com&redirect_uri=urn%3aietf%3awg%3aoauth%3a2.0%3aoob&response_type=code&scope=email%20https%3a%2f%2fwww.googleapis.com%2fauth%2fdocs.test%20https%3a%2f%2fwww.googleapis.com%2fauth%2fdrive%20https%3a%2f%2fwww.googleapis.com%2fauth%2fdrive.photos.readonly%20https%3a%2f%2fwww.googleapis.com%2fauth%2fpeopleapi.readonly\n",
            "\n",
            "Enter your authorization code:\n",
            "··········\n",
            "Mounted at /content/drive\n"
          ],
          "name": "stdout"
        }
      ]
    },
    {
      "cell_type": "code",
      "metadata": {
        "id": "bmxU19P-vdsR",
        "colab_type": "code",
        "colab": {}
      },
      "source": [
        "# Tạo thư mục animal-10 để chứa dữ liệu\n",
        "%mkdir /content/drive/My\\ Drive/Data/animal-10"
      ],
      "execution_count": 0,
      "outputs": []
    },
    {
      "cell_type": "markdown",
      "metadata": {
        "colab_type": "text",
        "id": "GG3o5LwT_BhL"
      },
      "source": [
        "# ***1. DownLoad Data:***"
      ]
    },
    {
      "cell_type": "code",
      "metadata": {
        "id": "KsKlbLg3k5JX",
        "colab_type": "code",
        "outputId": "b3bcd2e7-044d-4e27-82ad-becad9726633",
        "colab": {
          "base_uri": "https://localhost:8080/",
          "height": 34
        }
      },
      "source": [
        "%cd /content/drive/My\\ Drive/Data/animal-10"
      ],
      "execution_count": 10,
      "outputs": [
        {
          "output_type": "stream",
          "text": [
            "/content/drive/My Drive/Data/animal-10\n"
          ],
          "name": "stdout"
        }
      ]
    },
    {
      "cell_type": "code",
      "metadata": {
        "colab_type": "code",
        "id": "iGwOw31D8P-6",
        "outputId": "b8afd908-9c0c-458a-d10d-453d510cf854",
        "colab": {
          "resources": {
            "http://localhost:8080/nbextensions/google.colab/files.js": {
              "data": "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",
              "ok": true,
              "headers": [
                [
                  "content-type",
                  "application/javascript"
                ]
              ],
              "status": 200,
              "status_text": ""
            }
          },
          "base_uri": "https://localhost:8080/",
          "height": 74
        }
      },
      "source": [
        "# Thêm file kaggle.json chứa thông tin tài khoản của trang kaggle để có thể gọi Api cho kaggle\n",
        "from google.colab import files\n",
        "uploaded = files.upload()"
      ],
      "execution_count": 11,
      "outputs": [
        {
          "output_type": "display_data",
          "data": {
            "text/html": [
              "\n",
              "     <input type=\"file\" id=\"files-9f086d99-870a-4230-90bc-d10b68d796bc\" name=\"files[]\" multiple disabled />\n",
              "     <output id=\"result-9f086d99-870a-4230-90bc-d10b68d796bc\">\n",
              "      Upload widget is only available when the cell has been executed in the\n",
              "      current browser session. Please rerun this cell to enable.\n",
              "      </output>\n",
              "      <script src=\"/nbextensions/google.colab/files.js\"></script> "
            ],
            "text/plain": [
              "<IPython.core.display.HTML object>"
            ]
          },
          "metadata": {
            "tags": []
          }
        },
        {
          "output_type": "stream",
          "text": [
            "Saving kaggle.json to kaggle.json\n"
          ],
          "name": "stdout"
        }
      ]
    },
    {
      "cell_type": "code",
      "metadata": {
        "id": "gxrGtD4Jj14I",
        "colab_type": "code",
        "outputId": "f90bbc13-cf4d-4bbe-877b-5458ddd6975d",
        "colab": {
          "base_uri": "https://localhost:8080/",
          "height": 34
        }
      },
      "source": [
        "%cd ~"
      ],
      "execution_count": 12,
      "outputs": [
        {
          "output_type": "stream",
          "text": [
            "/root\n"
          ],
          "name": "stdout"
        }
      ]
    },
    {
      "cell_type": "code",
      "metadata": {
        "id": "kj9_0Yl8kn17",
        "colab_type": "code",
        "colab": {}
      },
      "source": [
        "%mkdir .kaggle/"
      ],
      "execution_count": 0,
      "outputs": []
    },
    {
      "cell_type": "code",
      "metadata": {
        "id": "OybvkwU-kwb2",
        "colab_type": "code",
        "outputId": "1830a71e-455d-4f5a-b3bc-3bad1f22249c",
        "colab": {
          "base_uri": "https://localhost:8080/",
          "height": 67
        }
      },
      "source": [
        "%ls -a"
      ],
      "execution_count": 24,
      "outputs": [
        {
          "output_type": "stream",
          "text": [
            "\u001b[0m\u001b[01;34m.\u001b[0m/             .bashrc   \u001b[01;34m.gsutil\u001b[0m/   \u001b[01;34m.kaggle\u001b[0m/  \u001b[01;34m.node-gyp\u001b[0m/\n",
            "\u001b[01;34m..\u001b[0m/            \u001b[01;34m.cache\u001b[0m/   \u001b[01;34m.ipython\u001b[0m/  \u001b[01;34m.keras\u001b[0m/   \u001b[01;34m.npm\u001b[0m/\n",
            ".bash_history  \u001b[01;34m.config\u001b[0m/  \u001b[01;34m.jupyter\u001b[0m/  \u001b[01;34m.local\u001b[0m/   .profile\n"
          ],
          "name": "stdout"
        }
      ]
    },
    {
      "cell_type": "markdown",
      "metadata": {
        "id": "4v2QXaIlQu85",
        "colab_type": "text"
      },
      "source": [
        ""
      ]
    },
    {
      "cell_type": "code",
      "metadata": {
        "id": "3WAbIPp2J7ib",
        "colab_type": "code",
        "colab": {}
      },
      "source": [
        "!cp /content/drive/My\\ Drive/Data/animal-10/kaggle.json ~/.kaggle/"
      ],
      "execution_count": 0,
      "outputs": []
    },
    {
      "cell_type": "code",
      "metadata": {
        "id": "hAuYeIV5KeZn",
        "colab_type": "code",
        "outputId": "9086c729-42f6-464f-947c-a0e44dacc693",
        "colab": {
          "base_uri": "https://localhost:8080/",
          "height": 34
        }
      },
      "source": [
        "%cd ~/.kaggle/"
      ],
      "execution_count": 42,
      "outputs": [
        {
          "output_type": "stream",
          "text": [
            "/root/.kaggle\n"
          ],
          "name": "stdout"
        }
      ]
    },
    {
      "cell_type": "code",
      "metadata": {
        "id": "tNiCM0ntKiWM",
        "colab_type": "code",
        "outputId": "027be0fe-9d8e-4980-83f8-6e5e2fc769ec",
        "colab": {
          "base_uri": "https://localhost:8080/",
          "height": 34
        }
      },
      "source": [
        "%ls -a"
      ],
      "execution_count": 43,
      "outputs": [
        {
          "output_type": "stream",
          "text": [
            "\u001b[0m\u001b[01;34m.\u001b[0m/  \u001b[01;34m..\u001b[0m/  kaggle.json\n"
          ],
          "name": "stdout"
        }
      ]
    },
    {
      "cell_type": "code",
      "metadata": {
        "id": "z5QTGOFWL-xG",
        "colab_type": "code",
        "outputId": "cb8e9128-cb92-4211-835e-4d9adfb0c174",
        "colab": {
          "base_uri": "https://localhost:8080/",
          "height": 34
        }
      },
      "source": [
        "%cd /content/drive/My\\ Drive/Data/animal-10/"
      ],
      "execution_count": 44,
      "outputs": [
        {
          "output_type": "stream",
          "text": [
            "/content/drive/My Drive/Data/animal-10\n"
          ],
          "name": "stdout"
        }
      ]
    },
    {
      "cell_type": "code",
      "metadata": {
        "colab_type": "code",
        "id": "kbSeYupq9i4b",
        "outputId": "b59c804a-a2c2-45ac-935d-bfa8a972fc9f",
        "cellView": "both",
        "colab": {
          "base_uri": "https://localhost:8080/",
          "height": 67
        }
      },
      "source": [
        "# Tải dữ liệu từ kaggle về\n",
        "!kaggle datasets download -d alessiocorrado99/animals10"
      ],
      "execution_count": 45,
      "outputs": [
        {
          "output_type": "stream",
          "text": [
            "Downloading animals10.zip to /content/drive/My Drive/Data/animal-10\n",
            "100% 585M/586M [00:06<00:00, 178MB/s]\n",
            "100% 586M/586M [00:06<00:00, 87.9MB/s]\n"
          ],
          "name": "stdout"
        }
      ]
    },
    {
      "cell_type": "markdown",
      "metadata": {
        "colab_type": "text",
        "id": "eK6MQXUo_WEz"
      },
      "source": [
        "# ***2. Preprocessing***"
      ]
    },
    {
      "cell_type": "code",
      "metadata": {
        "colab_type": "code",
        "id": "pytTrf5PASck",
        "colab": {}
      },
      "source": [
        "!mkdir data"
      ],
      "execution_count": 0,
      "outputs": []
    },
    {
      "cell_type": "markdown",
      "metadata": {
        "id": "AQp4-EDNo0Sc",
        "colab_type": "text"
      },
      "source": [
        "Unzip animals10.zip"
      ]
    },
    {
      "cell_type": "code",
      "metadata": {
        "colab_type": "code",
        "id": "5S3NEs0X_fEQ",
        "colab": {}
      },
      "source": [
        "import zipfile\n",
        "\n",
        "local_zip = '/content/drive/My Drive/Data/animal-10/animals10.zip'\n",
        "zip_ref = zipfile.ZipFile(local_zip, 'r')\n",
        "zip_ref.extractall(\".\")\n",
        "zip_ref.close()"
      ],
      "execution_count": 0,
      "outputs": []
    },
    {
      "cell_type": "markdown",
      "metadata": {
        "id": "tpO3rYhLo5fR",
        "colab_type": "text"
      },
      "source": [
        "Hiện thị số ảnh của mỗi loại động vật"
      ]
    },
    {
      "cell_type": "code",
      "metadata": {
        "colab_type": "code",
        "id": "cYawLiKbBXqW",
        "outputId": "e615a0bb-c296-4fa1-dd41-75a8345e6535",
        "colab": {
          "base_uri": "https://localhost:8080/",
          "height": 294
        }
      },
      "source": [
        "import matplotlib.pyplot as plt\n",
        "import os\n",
        "import numpy as np\n",
        "%matplotlib inline\n",
        "\n",
        "def barChart(data):\n",
        "    \"\"\"\n",
        "    Agr:\n",
        "    - data: type is the dictionary. Keys is the name of class, values is the numbers of elements in class.\n",
        "    Return:\n",
        "    - Bar chart of data\n",
        "    \"\"\"\n",
        "    x_pos = [i for i, _ in enumerate(data.keys())]\n",
        "    plt.bar(x_pos, data.values())\n",
        "    plt.xticks(x_pos, data.keys(), rotation = 45)\n",
        "    plt.show()\n",
        "    \n",
        "base_dir = '/content/drive/My Drive/Data/animal-10'\n",
        "raw_data = os.path.join(base_dir, 'raw-img')\n",
        "list_animal = os.listdir(raw_data)\n",
        "\n",
        "num_of_each_animal = {}\n",
        "# translate = {\"cane\": \"dog\", \"cavallo\": \"horse\", \"elefante\": \"elephant\", \"farfalla\": \"butterfly\", \"gallina\": \"chicken\", \"gatto\": \"cat\", \"mucca\": \"cow\", \"pecora\": \"sheep\", \"scoiattolo\": \"squirrel\", \"ragno\": \"spider\"}\n",
        "for x in list_animal:\n",
        "    temp1 = os.path.join(raw_data, x)\n",
        "    temp2 = os.path.join(raw_data, x)\n",
        "    os.rename(temp1, temp2)\n",
        "    num = os.listdir(temp2)\n",
        "    num_of_each_animal[x] = len(num)\n",
        "barChart(num_of_each_animal)"
      ],
      "execution_count": 0,
      "outputs": [
        {
          "output_type": "display_data",
          "data": {
            "image/png": "[encoded data removed]",
            "text/plain": [
              "<Figure size 432x288 with 1 Axes>"
            ]
          },
          "metadata": {
            "tags": []
          }
        }
      ]
    },
    {
      "cell_type": "markdown",
      "metadata": {
        "colab_type": "text",
        "id": "eGoZ2jYXJYG_"
      },
      "source": [
        "Train-Val-Test = 70-10-20"
      ]
    },
    {
      "cell_type": "markdown",
      "metadata": {
        "id": "3exwmziqpC7N",
        "colab_type": "text"
      },
      "source": [
        "Tạo 3 folder train, val và test."
      ]
    },
    {
      "cell_type": "code",
      "metadata": {
        "colab_type": "code",
        "id": "cSCK-B7NNIeT",
        "colab": {}
      },
      "source": [
        "import os\n",
        "import shutil\n",
        "\n",
        "def createDir(path, list_dir):\n",
        "    \"\"\"\n",
        "    Agr:\n",
        "    - path: là đường dẫn lưu các sub directory. This is a string.\n",
        "    - list_dir: là danh sách các thư mục sẽ được tạo. This is a list.\n",
        "    Return:\n",
        "    - path of each directory in dict\n",
        "    \"\"\"\n",
        "    path_of_dir = {}\n",
        "    for x in list_dir:\n",
        "        new_dir = os.path.join(path, x)\n",
        "        if not os.path.exists(new_dir):\n",
        "            os.mkdir(new_dir)\n",
        "        path_of_dir[x] = new_dir\n",
        "    return path_of_dir\n",
        "def processRawData(raw_path, ratio, des_path):\n",
        "    \"\"\"\n",
        "    Agr:\n",
        "    - raw_path: this is the path of raw data.(string)\n",
        "    - ratio: this is the ratio of train-val-test data.(list)\n",
        "    - des_path: this is the path of save data is processed.(string)\n",
        "    Return:\n",
        "    - data is processed.\n",
        "    \"\"\"\n",
        "    #Create data diretory\n",
        "    data_dir = createDir(des_path, ['data'])['data']\n",
        "    part_data = ['train', 'val', 'test']\n",
        "    data_class = createDir(data_dir, part_data)\n",
        "    #Create class directory\n",
        "    raw_class = os.listdir(raw_path)\n",
        "    path_of_class = {}\n",
        "    for x in part_data:\n",
        "        tem = createDir(data_class[x], raw_class)\n",
        "        path_of_class[x] = tem\n",
        "    #Div data\n",
        "    for x in raw_class:\n",
        "        raw_data_dir = os.path.join(raw_path, x)\n",
        "        raw_data = os.listdir(raw_data_dir)\n",
        "\n",
        "        train = int(len(raw_data)*ratio[0])\n",
        "        val = int(len(raw_data)*(ratio[0] + ratio[1]))\n",
        "        \n",
        "        for y in raw_data[:train]:\n",
        "            tem = os.path.join(raw_data_dir, y)\n",
        "            shutil.copy(tem, path_of_class['train'][x])\n",
        "        for y in raw_data[train:val]:\n",
        "            tem = os.path.join(raw_data_dir, y)\n",
        "            shutil.copy(tem, path_of_class['val'][x])\n",
        "        for y in raw_data[val:]:\n",
        "            tem = os.path.join(raw_data_dir, y)\n",
        "            shutil.copy(tem, path_of_class['test'][x])\n",
        "base_dir = '/content/drive/My Drive/Data/animal-10'\n",
        "raw_dir = os.path.join(base_dir, 'raw-img')\n",
        "processRawData(raw_dir, [0.7, 0.1, 0.2], base_dir)"
      ],
      "execution_count": 0,
      "outputs": []
    },
    {
      "cell_type": "code",
      "metadata": {
        "colab_type": "code",
        "id": "NIubYX8z69d9",
        "outputId": "701f051b-ad54-490b-bcb6-047fafe37dc1",
        "colab": {
          "base_uri": "https://localhost:8080/",
          "height": 464
        }
      },
      "source": [
        "def check(raw_dir, data_dir):\n",
        "    raw_class = os.listdir(raw_dir)\n",
        "    test = os.path.join(data_dir, 'test')\n",
        "    print(test)\n",
        "    for x in raw_class:        \n",
        "        amount_raw = len(os.listdir(os.path.join(raw_dir, x)))        \n",
        "        amount_data = 0\n",
        "        for y in ['train', 'val', 'test']:\n",
        "            tem = os.path.join(data_dir, y)\n",
        "            tem = os.path.join(tem, x)\n",
        "            amount_data += len(os.listdir(tem))\n",
        "        print(x, \":\", amount_raw == amount_data, amount_data, amount_raw)\n",
        "        print(x, \"test:\", len(os.listdir(os.path.join(test, x))))\n",
        "base_dir = '/content/drive/My Drive/Data/animal-10'\n",
        "raw_dir = os.path.join(base_dir, 'raw-img')\n",
        "data_dir = os.path.join(base_dir, 'data')\n",
        "check(raw_dir, data_dir)"
      ],
      "execution_count": 0,
      "outputs": [
        {
          "output_type": "stream",
          "text": [
            "/content/drive/My Drive/Data/animal-10/data/test\n",
            "dog : True 4863 4863\n",
            "dog test: 973\n",
            "horse : True 2623 2623\n",
            "horse test: 525\n",
            "elephant : True 1446 1446\n",
            "elephant test: 290\n",
            "butterfly : True 2112 2112\n",
            "butterfly test: 423\n"
          ],
          "name": "stdout"
        },
        {
          "output_type": "error",
          "ename": "KeyboardInterrupt",
          "evalue": "ignored",
          "traceback": [
            "\u001b[0;31m---------------------------------------------------------------------------\u001b[0m",
            "\u001b[0;31mKeyboardInterrupt\u001b[0m                         Traceback (most recent call last)",
            "\u001b[0;32m<ipython-input-16-4885ef683b04>\u001b[0m in \u001b[0;36m<module>\u001b[0;34m()\u001b[0m\n\u001b[1;32m     15\u001b[0m \u001b[0mraw_dir\u001b[0m \u001b[0;34m=\u001b[0m \u001b[0mos\u001b[0m\u001b[0;34m.\u001b[0m\u001b[0mpath\u001b[0m\u001b[0;34m.\u001b[0m\u001b[0mjoin\u001b[0m\u001b[0;34m(\u001b[0m\u001b[0mbase_dir\u001b[0m\u001b[0;34m,\u001b[0m \u001b[0;34m'raw-img'\u001b[0m\u001b[0;34m)\u001b[0m\u001b[0;34m\u001b[0m\u001b[0;34m\u001b[0m\u001b[0m\n\u001b[1;32m     16\u001b[0m \u001b[0mdata_dir\u001b[0m \u001b[0;34m=\u001b[0m \u001b[0mos\u001b[0m\u001b[0;34m.\u001b[0m\u001b[0mpath\u001b[0m\u001b[0;34m.\u001b[0m\u001b[0mjoin\u001b[0m\u001b[0;34m(\u001b[0m\u001b[0mbase_dir\u001b[0m\u001b[0;34m,\u001b[0m \u001b[0;34m'data'\u001b[0m\u001b[0;34m)\u001b[0m\u001b[0;34m\u001b[0m\u001b[0;34m\u001b[0m\u001b[0m\n\u001b[0;32m---> 17\u001b[0;31m \u001b[0mcheck\u001b[0m\u001b[0;34m(\u001b[0m\u001b[0mraw_dir\u001b[0m\u001b[0;34m,\u001b[0m \u001b[0mdata_dir\u001b[0m\u001b[0;34m)\u001b[0m\u001b[0;34m\u001b[0m\u001b[0;34m\u001b[0m\u001b[0m\n\u001b[0m",
            "\u001b[0;32m<ipython-input-16-4885ef683b04>\u001b[0m in \u001b[0;36mcheck\u001b[0;34m(raw_dir, data_dir)\u001b[0m\n\u001b[1;32m      9\u001b[0m             \u001b[0mtem\u001b[0m \u001b[0;34m=\u001b[0m \u001b[0mos\u001b[0m\u001b[0;34m.\u001b[0m\u001b[0mpath\u001b[0m\u001b[0;34m.\u001b[0m\u001b[0mjoin\u001b[0m\u001b[0;34m(\u001b[0m\u001b[0mdata_dir\u001b[0m\u001b[0;34m,\u001b[0m \u001b[0my\u001b[0m\u001b[0;34m)\u001b[0m\u001b[0;34m\u001b[0m\u001b[0;34m\u001b[0m\u001b[0m\n\u001b[1;32m     10\u001b[0m             \u001b[0mtem\u001b[0m \u001b[0;34m=\u001b[0m \u001b[0mos\u001b[0m\u001b[0;34m.\u001b[0m\u001b[0mpath\u001b[0m\u001b[0;34m.\u001b[0m\u001b[0mjoin\u001b[0m\u001b[0;34m(\u001b[0m\u001b[0mtem\u001b[0m\u001b[0;34m,\u001b[0m \u001b[0mx\u001b[0m\u001b[0;34m)\u001b[0m\u001b[0;34m\u001b[0m\u001b[0;34m\u001b[0m\u001b[0m\n\u001b[0;32m---> 11\u001b[0;31m             \u001b[0mamount_data\u001b[0m \u001b[0;34m+=\u001b[0m \u001b[0mlen\u001b[0m\u001b[0;34m(\u001b[0m\u001b[0mos\u001b[0m\u001b[0;34m.\u001b[0m\u001b[0mlistdir\u001b[0m\u001b[0;34m(\u001b[0m\u001b[0mtem\u001b[0m\u001b[0;34m)\u001b[0m\u001b[0;34m)\u001b[0m\u001b[0;34m\u001b[0m\u001b[0;34m\u001b[0m\u001b[0m\n\u001b[0m\u001b[1;32m     12\u001b[0m         \u001b[0mprint\u001b[0m\u001b[0;34m(\u001b[0m\u001b[0mx\u001b[0m\u001b[0;34m,\u001b[0m \u001b[0;34m\":\"\u001b[0m\u001b[0;34m,\u001b[0m \u001b[0mamount_raw\u001b[0m \u001b[0;34m==\u001b[0m \u001b[0mamount_data\u001b[0m\u001b[0;34m,\u001b[0m \u001b[0mamount_data\u001b[0m\u001b[0;34m,\u001b[0m \u001b[0mamount_raw\u001b[0m\u001b[0;34m)\u001b[0m\u001b[0;34m\u001b[0m\u001b[0;34m\u001b[0m\u001b[0m\n\u001b[1;32m     13\u001b[0m         \u001b[0mprint\u001b[0m\u001b[0;34m(\u001b[0m\u001b[0mx\u001b[0m\u001b[0;34m,\u001b[0m \u001b[0;34m\"test:\"\u001b[0m\u001b[0;34m,\u001b[0m \u001b[0mlen\u001b[0m\u001b[0;34m(\u001b[0m\u001b[0mos\u001b[0m\u001b[0;34m.\u001b[0m\u001b[0mlistdir\u001b[0m\u001b[0;34m(\u001b[0m\u001b[0mos\u001b[0m\u001b[0;34m.\u001b[0m\u001b[0mpath\u001b[0m\u001b[0;34m.\u001b[0m\u001b[0mjoin\u001b[0m\u001b[0;34m(\u001b[0m\u001b[0mtest\u001b[0m\u001b[0;34m,\u001b[0m \u001b[0mx\u001b[0m\u001b[0;34m)\u001b[0m\u001b[0;34m)\u001b[0m\u001b[0;34m)\u001b[0m\u001b[0;34m)\u001b[0m\u001b[0;34m\u001b[0m\u001b[0;34m\u001b[0m\u001b[0m\n",
            "\u001b[0;31mKeyboardInterrupt\u001b[0m: "
          ]
        }
      ]
    },
    {
      "cell_type": "markdown",
      "metadata": {
        "colab_type": "text",
        "id": "a3B4lQejHVBa"
      },
      "source": [
        "# ***3. Preprocessing image***"
      ]
    },
    {
      "cell_type": "code",
      "metadata": {
        "colab_type": "code",
        "id": "hB34jAgH_oNs",
        "outputId": "1e804c10-65b5-441f-e48f-8c9536896ac7",
        "colab": {
          "base_uri": "https://localhost:8080/",
          "height": 34
        }
      },
      "source": [
        "%tensorflow_version 2.x"
      ],
      "execution_count": 0,
      "outputs": [
        {
          "output_type": "stream",
          "text": [
            "TensorFlow 2.x selected.\n"
          ],
          "name": "stdout"
        }
      ]
    },
    {
      "cell_type": "code",
      "metadata": {
        "colab_type": "code",
        "id": "bxVlddGlHkFK",
        "colab": {}
      },
      "source": [
        "import os\n",
        "from tensorflow.keras.preprocessing.image import ImageDataGenerator"
      ],
      "execution_count": 0,
      "outputs": []
    },
    {
      "cell_type": "markdown",
      "metadata": {
        "id": "0FdAqbwTpaDe",
        "colab_type": "text"
      },
      "source": [
        "Tạo một ImageDataGenerator. Dùng để đọc một folder."
      ]
    },
    {
      "cell_type": "code",
      "metadata": {
        "colab_type": "code",
        "id": "hS8tMUmKDYa1",
        "outputId": "48882025-a889-4c75-b0a5-fe0e23929997",
        "colab": {
          "base_uri": "https://localhost:8080/",
          "height": 67
        }
      },
      "source": [
        "base_dir = '/content/drive/My Drive/Data/animal-10/data'\n",
        "\n",
        "train_dir = os.path.join(base_dir, 'train')\n",
        "validation_dir = os.path.join(base_dir, 'val')\n",
        "evaluation_dir = os.path.join(base_dir, 'test')\n",
        "train_datagen = ImageDataGenerator(rescale = 1./255,\n",
        "                                   rotation_range = 40,\n",
        "                                   width_shift_range = 0.2,\n",
        "                                   height_shift_range = 0.2,\n",
        "                                   shear_range = 0.2,\n",
        "                                   zoom_range = 0.2,\n",
        "                                   horizontal_flip = True)\n",
        "val_datagen  = ImageDataGenerator(rescale = 1./255)\n",
        "evl_datagen = ImageDataGenerator(rescale = 1./255)\n",
        "\n",
        "train_generator = train_datagen.flow_from_directory(\n",
        "    train_dir,\n",
        "    target_size = (224, 224),\n",
        "    batch_size = 128,\n",
        "    class_mode = 'categorical')\n",
        "validation_generation = val_datagen.flow_from_directory(\n",
        "    validation_dir,\n",
        "    target_size = (224, 224),\n",
        "    batch_size = 64,\n",
        "    class_mode = 'categorical')\n",
        "evaluation_generation = evl_datagen.flow_from_directory(\n",
        "    evaluation_dir,\n",
        "    target_size = (224, 224),\n",
        "    batch_size = 64,\n",
        "    class_mode = 'categorical',\n",
        "    shuffle = False)"
      ],
      "execution_count": 0,
      "outputs": [
        {
          "output_type": "stream",
          "text": [
            "Found 18322 images belonging to 10 classes.\n",
            "Found 2615 images belonging to 10 classes.\n",
            "Found 5242 images belonging to 10 classes.\n"
          ],
          "name": "stdout"
        }
      ]
    },
    {
      "cell_type": "markdown",
      "metadata": {
        "colab_type": "text",
        "id": "nrBpOjAl_N8i"
      },
      "source": [
        "# ***4. Model:***"
      ]
    },
    {
      "cell_type": "code",
      "metadata": {
        "colab_type": "code",
        "id": "wPuBnbSIArv_",
        "colab": {}
      },
      "source": [
        "from tensorflow.keras import layers\n",
        "from tensorflow.keras import Model \n",
        "\n",
        "from tensorflow.keras.optimizers import SGD, RMSprop, Adam\n",
        "from tensorflow.keras.applications.vgg16 import VGG16"
      ],
      "execution_count": 0,
      "outputs": []
    },
    {
      "cell_type": "code",
      "metadata": {
        "colab_type": "code",
        "id": "pkMJCfDfDqzu",
        "colab": {}
      },
      "source": [
        "# Create VGG16 model\n",
        "input_tensor = layers.Input(shape=(224, 224, 3))\n",
        "model = VGG16(weights='imagenet', include_top=False, input_tensor=input_tensor)"
      ],
      "execution_count": 0,
      "outputs": []
    },
    {
      "cell_type": "code",
      "metadata": {
        "id": "eZhmo_LDgt3y",
        "colab_type": "code",
        "outputId": "272f29d9-a7b3-4a75-e561-1aef8d6e57d7",
        "colab": {
          "base_uri": "https://localhost:8080/",
          "height": 34
        }
      },
      "source": [
        "# Freeze first 15 layer\n",
        "for layer in model.layers[:15]:\n",
        "    layer.trainable = False\n",
        "last_layer = model.get_layer('block5_pool')\n",
        "last_output = last_layer.output\n",
        "print(last_output)"
      ],
      "execution_count": 0,
      "outputs": [
        {
          "output_type": "stream",
          "text": [
            "Tensor(\"block5_pool/Identity:0\", shape=(None, 7, 7, 512), dtype=float32)\n"
          ],
          "name": "stdout"
        }
      ]
    },
    {
      "cell_type": "code",
      "metadata": {
        "id": "cF2RvsQdgwva",
        "colab_type": "code",
        "outputId": "f89c4650-7fcf-44ee-e38a-f04eaf23beab",
        "colab": {
          "base_uri": "https://localhost:8080/",
          "height": 924
        }
      },
      "source": [
        "# Build Fully-connected\n",
        "top_model = layers.Flatten()(last_output)\n",
        "top_model = layers.Dropout(0.5)(top_model)\n",
        "top_model = layers.Dense(1024, activation = 'relu')(top_model)\n",
        "top_model = layers.Dense(10, activation = 'softmax')(top_model)\n",
        "\n",
        "model = Model(model.input, top_model)\n",
        "\n",
        "model.summary()"
      ],
      "execution_count": 0,
      "outputs": [
        {
          "output_type": "stream",
          "text": [
            "Model: \"model\"\n",
            "_________________________________________________________________\n",
            "Layer (type)                 Output Shape              Param #   \n",
            "=================================================================\n",
            "input_1 (InputLayer)         [(None, 224, 224, 3)]     0         \n",
            "_________________________________________________________________\n",
            "block1_conv1 (Conv2D)        (None, 224, 224, 64)      1792      \n",
            "_________________________________________________________________\n",
            "block1_conv2 (Conv2D)        (None, 224, 224, 64)      36928     \n",
            "_________________________________________________________________\n",
            "block1_pool (MaxPooling2D)   (None, 112, 112, 64)      0         \n",
            "_________________________________________________________________\n",
            "block2_conv1 (Conv2D)        (None, 112, 112, 128)     73856     \n",
            "_________________________________________________________________\n",
            "block2_conv2 (Conv2D)        (None, 112, 112, 128)     147584    \n",
            "_________________________________________________________________\n",
            "block2_pool (MaxPooling2D)   (None, 56, 56, 128)       0         \n",
            "_________________________________________________________________\n",
            "block3_conv1 (Conv2D)        (None, 56, 56, 256)       295168    \n",
            "_________________________________________________________________\n",
            "block3_conv2 (Conv2D)        (None, 56, 56, 256)       590080    \n",
            "_________________________________________________________________\n",
            "block3_conv3 (Conv2D)        (None, 56, 56, 256)       590080    \n",
            "_________________________________________________________________\n",
            "block3_pool (MaxPooling2D)   (None, 28, 28, 256)       0         \n",
            "_________________________________________________________________\n",
            "block4_conv1 (Conv2D)        (None, 28, 28, 512)       1180160   \n",
            "_________________________________________________________________\n",
            "block4_conv2 (Conv2D)        (None, 28, 28, 512)       2359808   \n",
            "_________________________________________________________________\n",
            "block4_conv3 (Conv2D)        (None, 28, 28, 512)       2359808   \n",
            "_________________________________________________________________\n",
            "block4_pool (MaxPooling2D)   (None, 14, 14, 512)       0         \n",
            "_________________________________________________________________\n",
            "block5_conv1 (Conv2D)        (None, 14, 14, 512)       2359808   \n",
            "_________________________________________________________________\n",
            "block5_conv2 (Conv2D)        (None, 14, 14, 512)       2359808   \n",
            "_________________________________________________________________\n",
            "block5_conv3 (Conv2D)        (None, 14, 14, 512)       2359808   \n",
            "_________________________________________________________________\n",
            "block5_pool (MaxPooling2D)   (None, 7, 7, 512)         0         \n",
            "_________________________________________________________________\n",
            "flatten (Flatten)            (None, 25088)             0         \n",
            "_________________________________________________________________\n",
            "dropout (Dropout)            (None, 25088)             0         \n",
            "_________________________________________________________________\n",
            "dense (Dense)                (None, 1024)              25691136  \n",
            "_________________________________________________________________\n",
            "dense_1 (Dense)              (None, 10)                10250     \n",
            "=================================================================\n",
            "Total params: 40,416,074\n",
            "Trainable params: 32,780,810\n",
            "Non-trainable params: 7,635,264\n",
            "_________________________________________________________________\n"
          ],
          "name": "stdout"
        }
      ]
    },
    {
      "cell_type": "code",
      "metadata": {
        "id": "RncRHGusg4oT",
        "colab_type": "code",
        "colab": {}
      },
      "source": [
        "model.compile(loss = 'categorical_crossentropy',\n",
        "                optimizer=Adam(lr = 0.0001),\n",
        "                metrics = ['acc'])"
      ],
      "execution_count": 0,
      "outputs": []
    },
    {
      "cell_type": "code",
      "metadata": {
        "id": "8VmK-64_3DEP",
        "colab_type": "code",
        "outputId": "aa2b5b2d-2964-4588-c6e1-ab4885d7841e",
        "colab": {
          "base_uri": "https://localhost:8080/",
          "height": 50
        }
      },
      "source": [
        "step_epoch = train_generator.n//train_generator.batch_size + 1\n",
        "step_vali = validation_generation.n//validation_generation.batch_size + 1\n",
        "print(step_epoch)\n",
        "print(step_vali)"
      ],
      "execution_count": 0,
      "outputs": [
        {
          "output_type": "stream",
          "text": [
            "144\n",
            "41\n"
          ],
          "name": "stdout"
        }
      ]
    },
    {
      "cell_type": "code",
      "metadata": {
        "colab_type": "code",
        "id": "pNWXxdoBlPIY",
        "outputId": "19c9e506-107c-463f-cc08-4e07ab88a417",
        "colab": {
          "base_uri": "https://localhost:8080/",
          "height": 1000
        }
      },
      "source": [
        "history = model.fit_generator(\n",
        "    train_generator,\n",
        "    steps_per_epoch = step_epoch,\n",
        "    epochs = 50,\n",
        "    validation_data = validation_generation,\n",
        "    validation_steps = step_vali,\n",
        "    verbose = 1)\n",
        "model.save('./model.h5')\n",
        "import pickle\n",
        "with open('./trainHistory', 'wb') as f:\n",
        "    pickle.dump(history.history, f)"
      ],
      "execution_count": 0,
      "outputs": [
        {
          "output_type": "stream",
          "text": [
            "WARNING:tensorflow:From <ipython-input-24-cdb93b0ca290>:7: Model.fit_generator (from tensorflow.python.keras.engine.training) is deprecated and will be removed in a future version.\n",
            "Instructions for updating:\n",
            "Please use Model.fit, which supports generators.\n",
            "WARNING:tensorflow:sample_weight modes were coerced from\n",
            "  ...\n",
            "    to  \n",
            "  ['...']\n",
            "WARNING:tensorflow:sample_weight modes were coerced from\n",
            "  ...\n",
            "    to  \n",
            "  ['...']\n",
            "Train for 144 steps, validate for 41 steps\n",
            "Epoch 1/50\n",
            "144/144 [==============================] - 281s 2s/step - loss: 1.0832 - acc: 0.6369 - val_loss: 0.4972 - val_acc: 0.8371\n",
            "Epoch 2/50\n",
            "144/144 [==============================] - 264s 2s/step - loss: 0.5325 - acc: 0.8225 - val_loss: 0.4428 - val_acc: 0.8566\n",
            "Epoch 3/50\n",
            "144/144 [==============================] - 250s 2s/step - loss: 0.4205 - acc: 0.8572 - val_loss: 0.3102 - val_acc: 0.9006\n",
            "Epoch 4/50\n",
            "144/144 [==============================] - 256s 2s/step - loss: 0.3448 - acc: 0.8842 - val_loss: 0.2930 - val_acc: 0.9078\n",
            "Epoch 5/50\n",
            "144/144 [==============================] - 258s 2s/step - loss: 0.3103 - acc: 0.8987 - val_loss: 0.2799 - val_acc: 0.9143\n",
            "Epoch 6/50\n",
            "144/144 [==============================] - 242s 2s/step - loss: 0.2691 - acc: 0.9119 - val_loss: 0.2616 - val_acc: 0.9170\n",
            "Epoch 7/50\n",
            "144/144 [==============================] - 240s 2s/step - loss: 0.2465 - acc: 0.9173 - val_loss: 0.3045 - val_acc: 0.9078\n",
            "Epoch 8/50\n",
            "144/144 [==============================] - 237s 2s/step - loss: 0.2272 - acc: 0.9251 - val_loss: 0.2608 - val_acc: 0.9224\n",
            "Epoch 9/50\n",
            "144/144 [==============================] - 246s 2s/step - loss: 0.2064 - acc: 0.9293 - val_loss: 0.2749 - val_acc: 0.9193\n",
            "Epoch 10/50\n",
            "144/144 [==============================] - 240s 2s/step - loss: 0.1954 - acc: 0.9359 - val_loss: 0.2681 - val_acc: 0.9285\n",
            "Epoch 11/50\n",
            "144/144 [==============================] - 236s 2s/step - loss: 0.1753 - acc: 0.9420 - val_loss: 0.2813 - val_acc: 0.9231\n",
            "Epoch 12/50\n",
            "144/144 [==============================] - 240s 2s/step - loss: 0.1614 - acc: 0.9458 - val_loss: 0.2903 - val_acc: 0.9189\n",
            "Epoch 13/50\n",
            "144/144 [==============================] - 241s 2s/step - loss: 0.1540 - acc: 0.9495 - val_loss: 0.2800 - val_acc: 0.9270\n",
            "Epoch 14/50\n",
            "144/144 [==============================] - 240s 2s/step - loss: 0.1466 - acc: 0.9505 - val_loss: 0.3163 - val_acc: 0.9163\n",
            "Epoch 15/50\n",
            "144/144 [==============================] - 240s 2s/step - loss: 0.1311 - acc: 0.9558 - val_loss: 0.2895 - val_acc: 0.9270\n",
            "Epoch 16/50\n",
            "144/144 [==============================] - 240s 2s/step - loss: 0.1289 - acc: 0.9572 - val_loss: 0.3023 - val_acc: 0.9258\n",
            "Epoch 17/50\n",
            "144/144 [==============================] - 238s 2s/step - loss: 0.1154 - acc: 0.9609 - val_loss: 0.3128 - val_acc: 0.9201\n",
            "Epoch 18/50\n",
            "144/144 [==============================] - 238s 2s/step - loss: 0.1081 - acc: 0.9624 - val_loss: 0.3050 - val_acc: 0.9228\n",
            "Epoch 19/50\n",
            "144/144 [==============================] - 243s 2s/step - loss: 0.1047 - acc: 0.9632 - val_loss: 0.3029 - val_acc: 0.9289\n",
            "Epoch 20/50\n",
            "144/144 [==============================] - 242s 2s/step - loss: 0.0977 - acc: 0.9679 - val_loss: 0.3752 - val_acc: 0.9090\n",
            "Epoch 21/50\n",
            "144/144 [==============================] - 242s 2s/step - loss: 0.0947 - acc: 0.9680 - val_loss: 0.4031 - val_acc: 0.9163\n",
            "Epoch 22/50\n",
            "144/144 [==============================] - 239s 2s/step - loss: 0.0980 - acc: 0.9665 - val_loss: 0.3346 - val_acc: 0.9220\n",
            "Epoch 23/50\n",
            "144/144 [==============================] - 240s 2s/step - loss: 0.0834 - acc: 0.9730 - val_loss: 0.3170 - val_acc: 0.9266\n",
            "Epoch 24/50\n",
            "144/144 [==============================] - 246s 2s/step - loss: 0.0804 - acc: 0.9723 - val_loss: 0.3629 - val_acc: 0.9189\n",
            "Epoch 25/50\n",
            "144/144 [==============================] - 242s 2s/step - loss: 0.0828 - acc: 0.9719 - val_loss: 0.3208 - val_acc: 0.9296\n",
            "Epoch 26/50\n",
            "144/144 [==============================] - 240s 2s/step - loss: 0.0775 - acc: 0.9746 - val_loss: 0.3601 - val_acc: 0.9212\n",
            "Epoch 27/50\n",
            "144/144 [==============================] - 242s 2s/step - loss: 0.0772 - acc: 0.9752 - val_loss: 0.3263 - val_acc: 0.9285\n",
            "Epoch 28/50\n",
            "144/144 [==============================] - 241s 2s/step - loss: 0.0681 - acc: 0.9776 - val_loss: 0.3599 - val_acc: 0.9239\n",
            "Epoch 29/50\n",
            "144/144 [==============================] - 235s 2s/step - loss: 0.0698 - acc: 0.9766 - val_loss: 0.3583 - val_acc: 0.9281\n",
            "Epoch 30/50\n",
            "144/144 [==============================] - 235s 2s/step - loss: 0.0597 - acc: 0.9799 - val_loss: 0.3682 - val_acc: 0.9224\n",
            "Epoch 31/50\n",
            "144/144 [==============================] - 236s 2s/step - loss: 0.0594 - acc: 0.9811 - val_loss: 0.3301 - val_acc: 0.9262\n",
            "Epoch 32/50\n",
            "144/144 [==============================] - 236s 2s/step - loss: 0.0669 - acc: 0.9794 - val_loss: 0.3684 - val_acc: 0.9182\n",
            "Epoch 33/50\n",
            "144/144 [==============================] - 233s 2s/step - loss: 0.0614 - acc: 0.9780 - val_loss: 0.3338 - val_acc: 0.9266\n",
            "Epoch 34/50\n",
            "144/144 [==============================] - 231s 2s/step - loss: 0.0617 - acc: 0.9787 - val_loss: 0.3193 - val_acc: 0.9327\n",
            "Epoch 35/50\n",
            "144/144 [==============================] - 235s 2s/step - loss: 0.0584 - acc: 0.9808 - val_loss: 0.3465 - val_acc: 0.9270\n",
            "Epoch 36/50\n",
            "144/144 [==============================] - 241s 2s/step - loss: 0.0563 - acc: 0.9814 - val_loss: 0.4116 - val_acc: 0.9193\n",
            "Epoch 37/50\n",
            "144/144 [==============================] - 243s 2s/step - loss: 0.0508 - acc: 0.9830 - val_loss: 0.3702 - val_acc: 0.9239\n",
            "Epoch 38/50\n",
            "144/144 [==============================] - 235s 2s/step - loss: 0.0519 - acc: 0.9817 - val_loss: 0.3807 - val_acc: 0.9266\n",
            "Epoch 39/50\n",
            "144/144 [==============================] - 232s 2s/step - loss: 0.0490 - acc: 0.9838 - val_loss: 0.3317 - val_acc: 0.9369\n",
            "Epoch 40/50\n",
            "144/144 [==============================] - 229s 2s/step - loss: 0.0506 - acc: 0.9826 - val_loss: 0.4015 - val_acc: 0.9212\n",
            "Epoch 41/50\n",
            "144/144 [==============================] - 230s 2s/step - loss: 0.0547 - acc: 0.9814 - val_loss: 0.3427 - val_acc: 0.9270\n",
            "Epoch 42/50\n",
            "144/144 [==============================] - 234s 2s/step - loss: 0.0519 - acc: 0.9831 - val_loss: 0.3651 - val_acc: 0.9258\n",
            "Epoch 43/50\n",
            "144/144 [==============================] - 239s 2s/step - loss: 0.0509 - acc: 0.9852 - val_loss: 0.3875 - val_acc: 0.9247\n",
            "Epoch 44/50\n",
            "144/144 [==============================] - 238s 2s/step - loss: 0.0412 - acc: 0.9867 - val_loss: 0.4024 - val_acc: 0.9208\n",
            "Epoch 45/50\n",
            "144/144 [==============================] - 236s 2s/step - loss: 0.0521 - acc: 0.9826 - val_loss: 0.3819 - val_acc: 0.9285\n",
            "Epoch 46/50\n",
            "144/144 [==============================] - 235s 2s/step - loss: 0.0470 - acc: 0.9845 - val_loss: 0.3422 - val_acc: 0.9285\n",
            "Epoch 47/50\n",
            "144/144 [==============================] - 230s 2s/step - loss: 0.0449 - acc: 0.9843 - val_loss: 0.3578 - val_acc: 0.9258\n",
            "Epoch 48/50\n",
            "144/144 [==============================] - 229s 2s/step - loss: 0.0388 - acc: 0.9855 - val_loss: 0.4207 - val_acc: 0.9224\n",
            "Epoch 49/50\n",
            "144/144 [==============================] - 229s 2s/step - loss: 0.0466 - acc: 0.9844 - val_loss: 0.3892 - val_acc: 0.9266\n",
            "Epoch 50/50\n",
            "144/144 [==============================] - 234s 2s/step - loss: 0.0422 - acc: 0.9856 - val_loss: 0.3816 - val_acc: 0.9281\n"
          ],
          "name": "stdout"
        }
      ]
    },
    {
      "cell_type": "markdown",
      "metadata": {
        "colab_type": "text",
        "id": "Nz3cXfAsEGB8"
      },
      "source": [
        "Lưu Model và lịch sử huấn luyện:"
      ]
    },
    {
      "cell_type": "markdown",
      "metadata": {
        "colab_type": "text",
        "id": "_NjUFBu1D9Wv"
      },
      "source": [
        "# ***5. Đánh giá***"
      ]
    },
    {
      "cell_type": "code",
      "metadata": {
        "id": "Q-G9SS5rwkj1",
        "colab_type": "code",
        "outputId": "64d753b9-1a44-4a2c-e8ff-4370a4d1117c",
        "colab": {
          "base_uri": "https://localhost:8080/",
          "height": 34
        }
      },
      "source": [
        "%cd /content/drive/My\\ Drive/Data/animal-10"
      ],
      "execution_count": 0,
      "outputs": [
        {
          "output_type": "stream",
          "text": [
            "/content/drive/My Drive/Data/animal-10\n"
          ],
          "name": "stdout"
        }
      ]
    },
    {
      "cell_type": "code",
      "metadata": {
        "colab_type": "code",
        "id": "Kfk6eed6O2HR",
        "outputId": "17897de6-7d5c-4734-c743-b82be9d507d5",
        "colab": {
          "base_uri": "https://localhost:8080/",
          "height": 562
        }
      },
      "source": [
        "import matplotlib.pyplot as plt\n",
        "import os\n",
        "import numpy as np\n",
        "%matplotlib inline\n",
        "import pickle\n",
        "with open('./trainHistory', 'rb') as f:\n",
        "    history = pickle.load(f)\n",
        "# Retrieve a list of accuracy results on training and validation data\n",
        "# sets for each training epoch\n",
        "acc = history['acc']\n",
        "val_acc = history['val_acc']\n",
        "\n",
        "# Retrieve a list of list results on training and validation data\n",
        "# sets for each training epoch\n",
        "loss = history['loss']\n",
        "val_loss = history['val_loss']\n",
        "\n",
        "# Get number of epochs\n",
        "epochs = range(len(acc))\n",
        "\n",
        "# Plot training and validation accuracy per epoch\n",
        "plt.plot(history['acc'],'green',label='Acc')\n",
        "plt.plot(history['val_acc'],'red',label='Val_acc')\n",
        "plt.legend(loc='upper left')\n",
        "# plt.plot(epochs, acc)\n",
        "# plt.plot(epochs, val_acc)\n",
        "plt.title('Training and validation accuracy')\n",
        "\n",
        "plt.figure()\n",
        "\n",
        "# Plot training and validation loss per epoch\n",
        "plt.plot(history['loss'],'green',label='Loss')\n",
        "plt.plot(history['val_loss'],'red',label='Val_loss')\n",
        "plt.legend(loc='upper left')\n",
        "# plt.plot(epochs, loss)\n",
        "# plt.plot(epochs, val_loss)\n",
        "plt.title('Training and validation loss')"
      ],
      "execution_count": 0,
      "outputs": [
        {
          "output_type": "execute_result",
          "data": {
            "text/plain": [
              "Text(0.5, 1.0, 'Training and validation loss')"
            ]
          },
          "metadata": {
            "tags": []
          },
          "execution_count": 62
        },
        {
          "output_type": "display_data",
          "data": {
            "image/png": "[encoded data removed]",
            "text/plain": [
              "<Figure size 432x288 with 1 Axes>"
            ]
          },
          "metadata": {
            "tags": []
          }
        },
        {
          "output_type": "display_data",
          "data": {
            "image/png": "[encoded data removed]",
            "text/plain": [
              "<Figure size 432x288 with 1 Axes>"
            ]
          },
          "metadata": {
            "tags": []
          }
        }
      ]
    },
    {
      "cell_type": "code",
      "metadata": {
        "colab_type": "code",
        "id": "GqH4-Ga9PBn4",
        "outputId": "c7c74044-7b17-4dfb-b8d8-c0fc8813ff8c",
        "colab": {
          "base_uri": "https://localhost:8080/",
          "height": 54
        }
      },
      "source": [
        "import matplotlib.pyplot as plt\n",
        "import numpy as np\n",
        "from sklearn.metrics import classification_report, confusion_matrix\n",
        "import itertools\n",
        "%matplotlib inline\n",
        "def draw_heatmap_confusion_matrix(y_true, y_pred, classes):\n",
        "    cm = confusion_matrix(y_true, y_pred)\n",
        "    classes.sort()\n",
        "\n",
        "    tick_marks = np.arange(cm.shape[0])\n",
        "    plt.xticks(tick_marks, classes, rotation = 90)\n",
        "    plt.yticks(tick_marks, classes)\n",
        "\n",
        "    plt.imshow(cm, interpolation = 'nearest', cmap = plt.cm.Blues)\n",
        "    thresol = cm.max()*0.7 + cm.min()*0.3\n",
        "    for i, j in itertools.product(range(cm.shape[0]), range(cm.shape[0])):\n",
        "        plt.text(j, i, str(cm[i, j]), horizontalalignment=\"center\", color=\"white\" if cm[i, j] > thresol else \"black\")\n",
        "    plt.colorbar()\n",
        "\n",
        "    plt.title(\"Confusion matrix\")\n",
        "    plt.ylabel(\"True lable\", rotation = 90)\n",
        "    plt.xlabel(\"Predict lable\")\n",
        "\"\"\"\n",
        "evaluation_generation.reset()\n",
        "Y_pred = model.predict_generator(evaluation_generation)\n",
        "classes = evaluation_generation.classes[evaluation_generation.index_array]\n",
        "y_pred = np.argmax(Y_pred, axis=-1)\n",
        "\"\"\""
      ],
      "execution_count": 0,
      "outputs": [
        {
          "output_type": "execute_result",
          "data": {
            "text/plain": [
              "'\\nevaluation_generation.reset()\\nY_pred = model.predict_generator(evaluation_generation)\\nclasses = evaluation_generation.classes[evaluation_generation.index_array]\\ny_pred = np.argmax(Y_pred, axis=-1)\\n'"
            ]
          },
          "metadata": {
            "tags": []
          },
          "execution_count": 112
        }
      ]
    },
    {
      "cell_type": "code",
      "metadata": {
        "id": "E0ylIojcWz_M",
        "colab_type": "code",
        "colab": {}
      },
      "source": [
        "evaluation_generation.reset()\n",
        "Y_true = evaluation_generation.labels\n",
        "\n",
        "Y_pred = model.predict_generator(evaluation_generation, steps = 82)\n",
        "y_pred = np.argmax(Y_pred, axis=-1)"
      ],
      "execution_count": 0,
      "outputs": []
    },
    {
      "cell_type": "code",
      "metadata": {
        "colab_type": "code",
        "id": "w_aGxZOI41jg",
        "outputId": "02f91233-cd21-4842-9a1d-468f816c2142",
        "colab": {
          "base_uri": "https://localhost:8080/",
          "height": 648
        }
      },
      "source": [
        "base_dir = '/content/drive/My Drive/Data/animal-10/data'\n",
        "evaluation_dir = os.path.join(base_dir, 'test')\n",
        "target_names = os.listdir(evaluation_dir)\n",
        "draw_heatmap_confusion_matrix(Y_true, y_pred, target_names)\n",
        "print('Classification Report')\n",
        "print(classification_report(evaluation_generation.classes, y_pred, target_names=target_names))"
      ],
      "execution_count": 0,
      "outputs": [
        {
          "output_type": "stream",
          "text": [
            "['butterfly', 'cat', 'chicken', 'cow', 'dog', 'elephant', 'horse', 'sheep', 'spider', 'squirrel']\n",
            "Classification Report\n",
            "              precision    recall  f1-score   support\n",
            "\n",
            "   butterfly       0.93      0.92      0.92       423\n",
            "         cat       0.88      0.75      0.81       334\n",
            "     chicken       0.83      0.93      0.88       620\n",
            "         cow       0.75      0.84      0.79       374\n",
            "         dog       0.83      0.86      0.85       973\n",
            "    elephant       0.86      0.83      0.85       290\n",
            "       horse       0.85      0.82      0.83       525\n",
            "       sheep       0.81      0.65      0.72       365\n",
            "      spider       0.90      0.96      0.93       965\n",
            "    squirrel       0.86      0.73      0.79       373\n",
            "\n",
            "    accuracy                           0.85      5242\n",
            "   macro avg       0.85      0.83      0.84      5242\n",
            "weighted avg       0.85      0.85      0.85      5242\n",
            "\n"
          ],
          "name": "stdout"
        },
        {
          "output_type": "display_data",
          "data": {
            "image/png": "[encoded data removed]",
            "text/plain": [
              "<Figure size 432x288 with 2 Axes>"
            ]
          },
          "metadata": {
            "tags": []
          }
        }
      ]
    },
    {
      "cell_type": "code",
      "metadata": {
        "colab_type": "code",
        "id": "4DfnJwDmPFlW",
        "outputId": "fdc9c29b-d627-4b1b-99e6-cea8ac899a78",
        "colab": {
          "base_uri": "https://localhost:8080/",
          "height": 282
        }
      },
      "source": [
        "# score = model.evaluate_generator(evaluation_generation, steps = 82)\n",
        "from tensorflow.keras.models import load_model\n",
        "score = load_model('/content/drive/My Drive/Data/animal-10/model.h5')\n",
        "print(\"loss:\", score[0])\n",
        "print(\"acc:\", score[1])"
      ],
      "execution_count": 0,
      "outputs": [
        {
          "output_type": "stream",
          "text": [
            "WARNING:tensorflow:From /usr/local/lib/python3.6/dist-packages/tensorflow_core/python/ops/resource_variable_ops.py:1630: calling BaseResourceVariable.__init__ (from tensorflow.python.ops.resource_variable_ops) with constraint is deprecated and will be removed in a future version.\n",
            "Instructions for updating:\n",
            "If using Keras pass *_constraint arguments to layers.\n"
          ],
          "name": "stdout"
        },
        {
          "output_type": "error",
          "ename": "TypeError",
          "evalue": "ignored",
          "traceback": [
            "\u001b[0;31m---------------------------------------------------------------------------\u001b[0m",
            "\u001b[0;31mTypeError\u001b[0m                                 Traceback (most recent call last)",
            "\u001b[0;32m<ipython-input-5-07a49f2d436b>\u001b[0m in \u001b[0;36m<module>\u001b[0;34m()\u001b[0m\n\u001b[1;32m      1\u001b[0m \u001b[0;32mfrom\u001b[0m \u001b[0mtensorflow\u001b[0m\u001b[0;34m.\u001b[0m\u001b[0mkeras\u001b[0m\u001b[0;34m.\u001b[0m\u001b[0mmodels\u001b[0m \u001b[0;32mimport\u001b[0m \u001b[0mload_model\u001b[0m\u001b[0;34m\u001b[0m\u001b[0;34m\u001b[0m\u001b[0m\n\u001b[1;32m      2\u001b[0m \u001b[0mscore\u001b[0m \u001b[0;34m=\u001b[0m \u001b[0mload_model\u001b[0m\u001b[0;34m(\u001b[0m\u001b[0;34m'/content/drive/My Drive/Data/animal-10/model.h5'\u001b[0m\u001b[0;34m)\u001b[0m\u001b[0;34m\u001b[0m\u001b[0;34m\u001b[0m\u001b[0m\n\u001b[0;32m----> 3\u001b[0;31m \u001b[0mprint\u001b[0m\u001b[0;34m(\u001b[0m\u001b[0;34m\"loss:\"\u001b[0m\u001b[0;34m,\u001b[0m \u001b[0mscore\u001b[0m\u001b[0;34m[\u001b[0m\u001b[0;36m0\u001b[0m\u001b[0;34m]\u001b[0m\u001b[0;34m)\u001b[0m\u001b[0;34m\u001b[0m\u001b[0;34m\u001b[0m\u001b[0m\n\u001b[0m\u001b[1;32m      4\u001b[0m \u001b[0mprint\u001b[0m\u001b[0;34m(\u001b[0m\u001b[0;34m\"acc:\"\u001b[0m\u001b[0;34m,\u001b[0m \u001b[0mscore\u001b[0m\u001b[0;34m[\u001b[0m\u001b[0;36m1\u001b[0m\u001b[0;34m]\u001b[0m\u001b[0;34m)\u001b[0m\u001b[0;34m\u001b[0m\u001b[0;34m\u001b[0m\u001b[0m\n",
            "\u001b[0;31mTypeError\u001b[0m: 'Model' object does not support indexing"
          ]
        }
      ]
    },
    {
      "cell_type": "code",
      "metadata": {
        "colab_type": "code",
        "id": "LsY6YCv1EWRN",
        "colab": {}
      },
      "source": [
        "import os, signal\n",
        "os.kill(os.getpid(), signal.SIGKILL)"
      ],
      "execution_count": 0,
      "outputs": []
    }
  ]
}