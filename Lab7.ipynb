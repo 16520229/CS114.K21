{
  "nbformat": 4,
  "nbformat_minor": 0,
  "metadata": {
    "colab": {
      "name": "Lab7.ipynb",
      "provenance": [],
      "collapsed_sections": [],
      "include_colab_link": true
    },
    "kernelspec": {
      "name": "python3",
      "display_name": "Python 3"
    }
  },
  "cells": [
    {
      "cell_type": "markdown",
      "metadata": {
        "id": "view-in-github",
        "colab_type": "text"
      },
      "source": [
        "<a href=\"https://colab.research.google.com/github/16520229/CS114.K21/blob/master/Lab7.ipynb\" target=\"_parent\"><img src=\"https://colab.research.google.com/assets/colab-badge.svg\" alt=\"Open In Colab\"/></a>"
      ]
    },
    {
      "cell_type": "code",
      "metadata": {
        "id": "LsHyeJZYHn4I",
        "colab_type": "code",
        "colab": {}
      },
      "source": [
        "#import thư viện\n",
        "import pandas as pd\n",
        "import numpy as np\n",
        "import matplotlib.pyplot as plt\n",
        "from sklearn.model_selection import train_test_split\n",
        "from sklearn.linear_model import LinearRegression\n",
        "from sklearn.metrics import mean_squared_error, r2_score"
      ],
      "execution_count": null,
      "outputs": []
    },
    {
      "cell_type": "code",
      "metadata": {
        "id": "FXRWj3hrICZT",
        "colab_type": "code",
        "colab": {}
      },
      "source": [
        "# Lấy dữ liệu từ file scv \n",
        "\n",
        "url = \"https://d396qusza40orc.cloudfront.net/phoenixassets/home_data.csv\"\n",
        "\n",
        "dataFrame = pd.read_csv(url)"
      ],
      "execution_count": null,
      "outputs": []
    },
    {
      "cell_type": "code",
      "metadata": {
        "id": "L9zd1cOH8w5z",
        "colab_type": "code",
        "colab": {
          "base_uri": "https://localhost:8080/",
          "height": 34
        },
        "outputId": "33f4fcea-91d7-4e31-fff0-454d29d374a3"
      },
      "source": [
        "# Bài 1 :\n",
        "Price_Zipcode = dataFrame[(dataFrame['zipcode'] == 98039)][['zipcode','price']].values\n",
        "\n",
        "Sum = sum(Price_Zipcode[:,1:None])\n",
        "Len = len(Price_Zipcode[:,1:None])\n",
        "average = Sum / Len\n",
        "\n",
        "print(average)\n"
      ],
      "execution_count": null,
      "outputs": [
        {
          "output_type": "stream",
          "text": [
            "[2160606.6]\n"
          ],
          "name": "stdout"
        }
      ]
    },
    {
      "cell_type": "code",
      "metadata": {
        "id": "f1gCMvb-8ydX",
        "colab_type": "code",
        "colab": {
          "base_uri": "https://localhost:8080/",
          "height": 54
        },
        "outputId": "fcf22d68-4f27-4aee-dccc-3d1a0246f2a4"
      },
      "source": [
        "# Bài 2 :\n",
        "'''\n",
        "features = ['sqft_living']\n",
        "target = ['price']\n",
        "\n",
        "dataFrame = dataFrame[(dataFrame['sqft_living'] > 2000) & (dataFrame['sqft_living'] < 4000)][['sqft_living','price']].values\n",
        "'''"
      ],
      "execution_count": null,
      "outputs": [
        {
          "output_type": "execute_result",
          "data": {
            "text/plain": [
              "\"\\nfeatures = ['sqft_living']\\ntarget = ['price']\\n\\ndataFrame = dataFrame[(dataFrame['sqft_living'] > 2000) & (dataFrame['sqft_living'] < 4000)][['sqft_living','price']].values\\n\""
            ]
          },
          "metadata": {
            "tags": []
          },
          "execution_count": 26
        }
      ]
    },
    {
      "cell_type": "code",
      "metadata": {
        "id": "7439hV0J7o4h",
        "colab_type": "code",
        "colab": {}
      },
      "source": [
        "# Bài 3 : \n",
        "\n",
        "features = [\n",
        "'bedrooms', 'bathrooms', 'sqft_living', 'sqft_lot', 'floors', 'zipcode',\n",
        "'condition', # condition of house\t\t\t\t\n",
        "'grade', # measure of quality of construction\t\t\t\t\n",
        "'waterfront', # waterfront property\t\t\t\t\n",
        "'view', # type of view\t\t\t\t\n",
        "'sqft_above', # square feet above ground\t\t\t\t\n",
        "'sqft_basement', # square feet in basement\t\t\t\t\n",
        "'yr_built', # the year built\t\t\t\t\n",
        "'yr_renovated', # the year renovated\t\t\t\t\n",
        "'lat', 'long', # the lat-long of the parcel\t\t\t\t\n",
        "'sqft_living15', # average sq.ft. of 15 nearest neighbors \t\t\t\t\n",
        "'sqft_lot15', # average lot size of 15 nearest neighbors \n",
        "]\n",
        "target = ['price']\n",
        "\n",
        "dataFrame = dataFrame[features+target].values  \n"
      ],
      "execution_count": null,
      "outputs": []
    },
    {
      "cell_type": "code",
      "metadata": {
        "id": "xPrBdmKp7tOv",
        "colab_type": "code",
        "colab": {}
      },
      "source": [
        "# Xử lí dữ liệu\n",
        "\n",
        "X = dataFrame[:,None:len(features)]\n",
        "Y = dataFrame[:,len(features):None]\n",
        "\n",
        "X_train , X_test , Y_train , Y_test = train_test_split(X,Y,test_size = 0.1,random_state = 1)\n"
      ],
      "execution_count": null,
      "outputs": []
    },
    {
      "cell_type": "code",
      "metadata": {
        "id": "A8zj91tbBMy1",
        "colab_type": "code",
        "colab": {
          "base_uri": "https://localhost:8080/",
          "height": 289
        },
        "outputId": "224620db-ad4a-43c5-e885-709d6ec7ee27"
      },
      "source": [
        "plt.plot(X_train, Y_train,'.')\n",
        "\n",
        "plt.show()"
      ],
      "execution_count": null,
      "outputs": [
        {
          "output_type": "display_data",
          "data": {
            "image/png": "[encoded data removed]",
            "text/plain": [
              "<Figure size 432x288 with 1 Axes>"
            ]
          },
          "metadata": {
            "tags": [],
            "needs_background": "light"
          }
        }
      ]
    },
    {
      "cell_type": "code",
      "metadata": {
        "id": "R6NbmgWbIwLI",
        "colab_type": "code",
        "colab": {
          "base_uri": "https://localhost:8080/",
          "height": 134
        },
        "outputId": "ca7fb50b-2d7e-45b1-d18a-7ae3aa06fa6d"
      },
      "source": [
        "# train và đánh giá cho model\n",
        "my_model = LinearRegression()\n",
        "my_model.fit(X_train,Y_train)\n",
        "result = my_model.predict(X_test)\n",
        "\n",
        "print(\"Hệ số: \", my_model.coef_)\n",
        "print(\"MSE : %.2f\" % mean_squared_error(Y_test,result))\n",
        "print(\"Độ chính xác: %.2f\" % r2_score(Y_test,result))"
      ],
      "execution_count": null,
      "outputs": [
        {
          "output_type": "stream",
          "text": [
            "Hệ số:  [[-3.45084885e+04  4.32993258e+04  1.09011351e+02  9.74100306e-02\n",
            "   6.28094827e+03 -5.67349049e+02  2.68846436e+04  9.58422539e+04\n",
            "   5.43371841e+05  5.38802063e+04  7.11327580e+01  3.78785928e+01\n",
            "  -2.61761262e+03  1.96453502e+01  6.03759812e+05 -2.10480561e+05\n",
            "   1.87213895e+01 -3.53351057e-01]]\n",
            "MSE : 51189089378.14\n",
            "Độ chính xác: 0.68\n"
          ],
          "name": "stdout"
        }
      ]
    },
    {
      "cell_type": "code",
      "metadata": {
        "id": "Bqfnf1ls6uU2",
        "colab_type": "code",
        "colab": {
          "base_uri": "https://localhost:8080/",
          "height": 290
        },
        "outputId": "a321b21b-eb89-4fa5-b915-38f1d998044e"
      },
      "source": [
        "# Đồ thị kết quả \n",
        "\n",
        "plt.scatter(Y_test,result)\n",
        "\n",
        "plt.xlabel(\"Predict\")\n",
        "plt.ylabel(\"Test\")\n",
        "\n",
        "plt.show()"
      ],
      "execution_count": null,
      "outputs": [
        {
          "output_type": "display_data",
          "data": {
            "image/png": "[encoded data removed]",
            "text/plain": [
              "<Figure size 432x288 with 1 Axes>"
            ]
          },
          "metadata": {
            "tags": [],
            "needs_background": "light"
          }
        }
      ]
    }
  ]
}